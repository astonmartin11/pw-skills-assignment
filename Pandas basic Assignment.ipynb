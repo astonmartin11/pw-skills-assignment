{
 "cells": [
  {
   "cell_type": "markdown",
   "id": "7b8f06c0-b602-49ce-9794-b85f466766c2",
   "metadata": {},
   "source": [
    "# Solution 1"
   ]
  },
  {
   "cell_type": "code",
   "execution_count": 1,
   "id": "235907b8-12d0-4612-8c98-275c7541aeb9",
   "metadata": {},
   "outputs": [
    {
     "name": "stdout",
     "output_type": "stream",
     "text": [
      "Q1 Series:\n",
      "0     4\n",
      "1     8\n",
      "2    15\n",
      "3    16\n",
      "4    23\n",
      "5    42\n",
      "dtype: int64\n"
     ]
    }
   ],
   "source": [
    "import pandas as pd\n",
    "\n",
    "data = [4, 8, 15, 16, 23, 42]\n",
    "series = pd.Series(data)\n",
    "print(\"Q1 Series:\")\n",
    "print(series)\n"
   ]
  },
  {
   "cell_type": "markdown",
   "id": "469a9eb6-61d7-4f45-8a1b-c2d34d06e79b",
   "metadata": {},
   "source": [
    "# Solution 2"
   ]
  },
  {
   "cell_type": "code",
   "execution_count": 2,
   "id": "500567e8-0055-43fd-90bf-75233495690a",
   "metadata": {},
   "outputs": [
    {
     "name": "stdout",
     "output_type": "stream",
     "text": [
      "\n",
      "Q2 Series from list:\n",
      "0     1\n",
      "1     3\n",
      "2     5\n",
      "3     7\n",
      "4     9\n",
      "5    11\n",
      "6    13\n",
      "7    15\n",
      "8    17\n",
      "9    19\n",
      "dtype: int64\n"
     ]
    }
   ],
   "source": [
    "my_list = [1, 3, 5, 7, 9, 11, 13, 15, 17, 19]\n",
    "series2 = pd.Series(my_list)\n",
    "print(\"\\nQ2 Series from list:\")\n",
    "print(series2)\n"
   ]
  },
  {
   "cell_type": "markdown",
   "id": "5e33928f-e464-456e-967b-2aec096f6a2a",
   "metadata": {},
   "source": [
    "# Solution 3"
   ]
  },
  {
   "cell_type": "code",
   "execution_count": 3,
   "id": "aa2edbe1-2ff7-4210-9d81-f35be6323bf9",
   "metadata": {},
   "outputs": [
    {
     "name": "stdout",
     "output_type": "stream",
     "text": [
      "\n",
      "Q3 DataFrame:\n",
      "      Name  Age       City\n",
      "0    Alice   25   New York\n",
      "1      Bob   30  San Diego\n",
      "2  Charlie   22     Boston\n"
     ]
    }
   ],
   "source": [
    "data = {\n",
    "    'Name': ['Alice', 'Bob', 'Charlie'],\n",
    "    'Age': [25, 30, 22],\n",
    "    'City': ['New York', 'San Diego', 'Boston']\n",
    "}\n",
    "df = pd.DataFrame(data)\n",
    "print(\"\\nQ3 DataFrame:\")\n",
    "print(df)\n"
   ]
  },
  {
   "cell_type": "markdown",
   "id": "cceaa719-79cb-4fda-beb0-c18a0f75ac9a",
   "metadata": {},
   "source": [
    "# Solution 4"
   ]
  },
  {
   "cell_type": "markdown",
   "id": "88946783-c3a9-446d-b758-bd30a66b1096",
   "metadata": {},
   "source": [
    "A Series is a one-dimensional labeled array.\n",
    "\n",
    "A DataFrame is a two-dimensional table (like an Excel sheet) with rows and columns."
   ]
  },
  {
   "cell_type": "code",
   "execution_count": 4,
   "id": "ef0182de-cbd8-4b7e-af33-6d84314b4bec",
   "metadata": {},
   "outputs": [
    {
     "name": "stdout",
     "output_type": "stream",
     "text": [
      "\n",
      "Series:\n",
      "0    1\n",
      "1    2\n",
      "2    3\n",
      "dtype: int64\n",
      "\n",
      "DataFrame:\n",
      "   A  B\n",
      "0  1  4\n",
      "1  2  5\n",
      "2  3  6\n"
     ]
    }
   ],
   "source": [
    "# Series\n",
    "s = pd.Series([1, 2, 3])\n",
    "print(\"\\nSeries:\")\n",
    "print(s)\n",
    "\n",
    "# DataFrame\n",
    "df = pd.DataFrame({'A': [1, 2, 3], 'B': [4, 5, 6]})\n",
    "print(\"\\nDataFrame:\")\n",
    "print(df)\n"
   ]
  },
  {
   "cell_type": "markdown",
   "id": "d22a342a-7908-4c08-8e6f-99e9fb622443",
   "metadata": {},
   "source": [
    "# Solution 5"
   ]
  },
  {
   "cell_type": "markdown",
   "id": "ffa38448-2d29-4546-b82a-432b19f666aa",
   "metadata": {},
   "source": [
    "Common Functions:\n",
    "head(), tail() – View top/bottom rows\n",
    "\n",
    "describe() – Summary statistics\n",
    "\n",
    "drop() – Remove columns/rows\n",
    "\n",
    "fillna(), dropna() – Handle missing data\n",
    "\n",
    "groupby() – Group data for aggregation\n",
    "\n",
    "sort_values() – Sort data\n",
    "\n",
    "merge() – Join DataFrame"
   ]
  },
  {
   "cell_type": "code",
   "execution_count": null,
   "id": "16fe8713-9ac0-4f7c-943a-c5ae772e294b",
   "metadata": {},
   "outputs": [],
   "source": [
    "# Drop a column\n",
    "df = df.drop(columns=['City'])  # Removes the City column\n",
    "print(\"\\nDataFrame after dropping 'City':\")\n",
    "print(df)"
   ]
  },
  {
   "cell_type": "markdown",
   "id": "8b0f0ca6-3116-45da-ad12-6c288a6692c6",
   "metadata": {},
   "source": [
    "# Solution 6"
   ]
  },
  {
   "cell_type": "markdown",
   "id": "c304c150-8f98-4527-bc5d-0f612ebe43c5",
   "metadata": {},
   "source": [
    " All three are mutable in nature (Series, DataFrame, and Panel)."
   ]
  },
  {
   "cell_type": "markdown",
   "id": "d8f8872b-4099-4c06-80c4-3c3422d0ad17",
   "metadata": {},
   "source": [
    "# Solution 7"
   ]
  },
  {
   "cell_type": "code",
   "execution_count": 6,
   "id": "80aa2acc-2fea-4840-93b0-ede4a85a6003",
   "metadata": {},
   "outputs": [
    {
     "name": "stdout",
     "output_type": "stream",
     "text": [
      "\n",
      "Q7 DataFrame from multiple Series:\n",
      "    Name  Age     City\n",
      "0   Anna   28  Chicago\n",
      "1    Ben   34   Dallas\n",
      "2  Cathy   22   Austin\n"
     ]
    }
   ],
   "source": [
    "# Creating Series\n",
    "names = pd.Series(['Anna', 'Ben', 'Cathy'])\n",
    "ages = pd.Series([28, 34, 22])\n",
    "cities = pd.Series(['Chicago', 'Dallas', 'Austin'])\n",
    "\n",
    "# Creating DataFrame from Series\n",
    "df_from_series = pd.DataFrame({\n",
    "    'Name': names,\n",
    "    'Age': ages,\n",
    "    'City': cities\n",
    "})\n",
    "print(\"\\nQ7 DataFrame from multiple Series:\")\n",
    "print(df_from_series)\n"
   ]
  },
  {
   "cell_type": "code",
   "execution_count": null,
   "id": "86e81e3b-fc53-49ab-88ee-69cb97d1a7b1",
   "metadata": {},
   "outputs": [],
   "source": []
  }
 ],
 "metadata": {
  "kernelspec": {
   "display_name": "Python 3 (ipykernel)",
   "language": "python",
   "name": "python3"
  },
  "language_info": {
   "codemirror_mode": {
    "name": "ipython",
    "version": 3
   },
   "file_extension": ".py",
   "mimetype": "text/x-python",
   "name": "python",
   "nbconvert_exporter": "python",
   "pygments_lexer": "ipython3",
   "version": "3.13.2"
  }
 },
 "nbformat": 4,
 "nbformat_minor": 5
}
