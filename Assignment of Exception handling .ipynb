{
 "cells": [
  {
   "cell_type": "markdown",
   "id": "70576e18-fcc8-4a84-9eb3-2abe0d86e7de",
   "metadata": {},
   "source": [
    "# Solution 1"
   ]
  },
  {
   "cell_type": "markdown",
   "id": "d7281312-8881-47e1-97ef-3a4e2f9da55e",
   "metadata": {},
   "source": [
    "An exception is an error that occurs during the execution of the program. It disrupts the normal flow of the program and must be handled properly to prevent crashes.\n",
    "   Difference between the syntax error and the Exception are given below:\n",
    "1) Syntax error occurs before execution(at the time of compiling) whereas, Execution occurs during the execution of the program(at runtime).\n",
    "2) Syntax error occurs due to the incorrect syntax whereas, exception error occurs due to the Logical error or invalid operations.\n",
    "3) example of syntax error:if z==5(missing semicolon),example of exception error: 10/0 (zero division error)."
   ]
  },
  {
   "cell_type": "markdown",
   "id": "11d6221d-8afd-4f9d-b3bd-1264569c804a",
   "metadata": {},
   "source": [
    "# Solution 2"
   ]
  },
  {
   "cell_type": "markdown",
   "id": "39cb1f73-7785-48bb-8fdb-84ad8c2ab680",
   "metadata": {},
   "source": [
    "If an exception is not handled, the program will terminate, displaying a traceback message.\n",
    "'zero division error' in the below example."
   ]
  },
  {
   "cell_type": "code",
   "execution_count": 2,
   "id": "2afdbe4a-8c7d-4a79-ae3e-197f905cf673",
   "metadata": {},
   "outputs": [
    {
     "ename": "ZeroDivisionError",
     "evalue": "division by zero",
     "output_type": "error",
     "traceback": [
      "\u001b[31m---------------------------------------------------------------------------\u001b[39m",
      "\u001b[31mZeroDivisionError\u001b[39m                         Traceback (most recent call last)",
      "\u001b[36mCell\u001b[39m\u001b[36m \u001b[39m\u001b[32mIn[2]\u001b[39m\u001b[32m, line 3\u001b[39m\n\u001b[32m      1\u001b[39m \u001b[38;5;28;01mdef\u001b[39;00m\u001b[38;5;250m \u001b[39m\u001b[34mdivide\u001b[39m(a,b):\n\u001b[32m      2\u001b[39m     \u001b[38;5;28;01mreturn\u001b[39;00m a/b\n\u001b[32m----> \u001b[39m\u001b[32m3\u001b[39m \u001b[43mdivide\u001b[49m\u001b[43m(\u001b[49m\u001b[32;43m10\u001b[39;49m\u001b[43m,\u001b[49m\u001b[32;43m0\u001b[39;49m\u001b[43m)\u001b[49m\n",
      "\u001b[36mCell\u001b[39m\u001b[36m \u001b[39m\u001b[32mIn[2]\u001b[39m\u001b[32m, line 2\u001b[39m, in \u001b[36mdivide\u001b[39m\u001b[34m(a, b)\u001b[39m\n\u001b[32m      1\u001b[39m \u001b[38;5;28;01mdef\u001b[39;00m\u001b[38;5;250m \u001b[39m\u001b[34mdivide\u001b[39m(a,b):\n\u001b[32m----> \u001b[39m\u001b[32m2\u001b[39m     \u001b[38;5;28;01mreturn\u001b[39;00m \u001b[43ma\u001b[49m\u001b[43m/\u001b[49m\u001b[43mb\u001b[49m\n",
      "\u001b[31mZeroDivisionError\u001b[39m: division by zero"
     ]
    }
   ],
   "source": [
    "def divide(a,b):\n",
    "    return a/b\n",
    "print(divide(10,0))"
   ]
  },
  {
   "cell_type": "markdown",
   "id": "70a69a6c-d6b9-4fc9-9a96-9b12039115e3",
   "metadata": {},
   "source": [
    "# Solution 3"
   ]
  },
  {
   "cell_type": "markdown",
   "id": "647e5f88-3271-4f4e-a82e-573299bf267e",
   "metadata": {},
   "source": [
    "The 'else' block executes when no exception occurs."
   ]
  },
  {
   "cell_type": "code",
   "execution_count": 4,
   "id": "bf8ec594-87b3-4bc7-9f87-7d8f208fc0d5",
   "metadata": {},
   "outputs": [
    {
     "name": "stdin",
     "output_type": "stream",
     "text": [
      "Enter a number :  12\n"
     ]
    },
    {
     "name": "stdout",
     "output_type": "stream",
     "text": [
      "You entered :  12\n",
      "No exceptions occured.\n"
     ]
    }
   ],
   "source": [
    "try:\n",
    "    num=int(input(\"Enter a number : \"))\n",
    "    print(\"You entered : \", num)\n",
    "except ValueError:\n",
    "    print(\"Invalid input ! Please enter a number.\")\n",
    "else:\n",
    "    print(\"No exceptions occured.\")"
   ]
  },
  {
   "cell_type": "markdown",
   "id": "02c30e64-818d-42e6-823d-c8ac7576e175",
   "metadata": {},
   "source": [
    "The 'finally' block always executes ,regardless of whether and exception occurs."
   ]
  },
  {
   "cell_type": "code",
   "execution_count": 5,
   "id": "ca95bb3a-c1c2-466f-93f9-9c5f955f4665",
   "metadata": {},
   "outputs": [
    {
     "name": "stdout",
     "output_type": "stream",
     "text": [
      "Execution completed.\n"
     ]
    }
   ],
   "source": [
    "try:\n",
    "    f = open(\"test.txt\", \"r\")\n",
    "    content = f.read()\n",
    "except FileNotFoundError:\n",
    "    print(\"File not found!\")\n",
    "finally:\n",
    "    print(\"Execution completed.\")  # Always runs"
   ]
  },
  {
   "cell_type": "markdown",
   "id": "344fc84b-a4a0-4181-8fb8-07cbb49d712a",
   "metadata": {},
   "source": [
    "The 'raise' statement is used to manually trigger an exception."
   ]
  },
  {
   "cell_type": "code",
   "execution_count": 2,
   "id": "44ad2073-b18d-4ef7-93f2-36c7d0d91f68",
   "metadata": {},
   "outputs": [
    {
     "name": "stdin",
     "output_type": "stream",
     "text": [
      "Enter a Age :  78\n"
     ]
    },
    {
     "name": "stdout",
     "output_type": "stream",
     "text": [
      "Age is valid.\n"
     ]
    }
   ],
   "source": [
    "def check_age(age):\n",
    "    if age<18:\n",
    "        raise ValueError(\"Age must be at least 18.\")\n",
    "    elif age>90:\n",
    "        raise ValueError(\"Age must not be greater than 90.\")\n",
    "    else:\n",
    "        print(\"Age is valid.\")\n",
    "age=int(input(\"Enter a Age : \"))# giving the input\n",
    "check_age(age)  # checking the age"
   ]
  },
  {
   "cell_type": "markdown",
   "id": "81d1cff1-6670-4ff1-a1dc-d50a1f2a4c83",
   "metadata": {},
   "source": [
    "# Solution 4"
   ]
  },
  {
   "cell_type": "markdown",
   "id": "c22a6e01-d714-4087-b49d-916022de0410",
   "metadata": {},
   "source": [
    "Custom exceptions allow us to define our own types of error based on application-specific needs.They improve readability and debugging."
   ]
  },
  {
   "cell_type": "code",
   "execution_count": 4,
   "id": "f08c2a45-889d-4de1-aed3-76b85f11ce24",
   "metadata": {},
   "outputs": [
    {
     "name": "stdout",
     "output_type": "stream",
     "text": [
      "Age must be 18 or above.\n"
     ]
    }
   ],
   "source": [
    "class AgeTooSmallError(Exception):\n",
    "    def __init__(self, message=\"Age must be 18 or above.\"):\n",
    "        self.message = message\n",
    "        super().__init__(self.message)\n",
    "\n",
    "def validate_age(age):\n",
    "    if age < 18:\n",
    "        raise AgeTooSmallError()\n",
    "    print(\"Valid age!\")\n",
    "\n",
    "try:\n",
    "    validate_age(16)\n",
    "except AgeTooSmallError as e:\n",
    "    print(e)"
   ]
  },
  {
   "cell_type": "markdown",
   "id": "0de5ce8f-82e8-4a9d-b190-7915e0951151",
   "metadata": {},
   "source": [
    "# Solution 5"
   ]
  },
  {
   "cell_type": "code",
   "execution_count": 5,
   "id": "57f7cb67-5278-4b0c-9f73-dcee08392e64",
   "metadata": {},
   "outputs": [
    {
     "name": "stdout",
     "output_type": "stream",
     "text": [
      "Negative numbers are not allowed: -5\n"
     ]
    }
   ],
   "source": [
    "class NegativeNumberError(Exception):\n",
    "    \"\"\"Exception raised for negative numbers.\"\"\"\n",
    "    def __init__(self, value):\n",
    "        self.value = value\n",
    "        super().__init__(f\"Negative numbers are not allowed: {value}\")\n",
    "\n",
    "def check_positive(num):\n",
    "    if num < 0:\n",
    "        raise NegativeNumberError(num)\n",
    "    return f\"Valid number: {num}\"\n",
    "\n",
    "try:\n",
    "    print(check_positive(-5))\n",
    "except NegativeNumberError as e:\n",
    "    print(e)\n"
   ]
  },
  {
   "cell_type": "code",
   "execution_count": null,
   "id": "cc3afbd0-dfdc-4496-b384-b386959f5f20",
   "metadata": {},
   "outputs": [],
   "source": []
  }
 ],
 "metadata": {
  "kernelspec": {
   "display_name": "Python 3 (ipykernel)",
   "language": "python",
   "name": "python3"
  },
  "language_info": {
   "codemirror_mode": {
    "name": "ipython",
    "version": 3
   },
   "file_extension": ".py",
   "mimetype": "text/x-python",
   "name": "python",
   "nbconvert_exporter": "python",
   "pygments_lexer": "ipython3",
   "version": "3.12.6"
  }
 },
 "nbformat": 4,
 "nbformat_minor": 5
}
