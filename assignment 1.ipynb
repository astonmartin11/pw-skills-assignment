{
 "cells": [
  {
   "cell_type": "markdown",
   "id": "0087b88c-c9b4-4914-8c63-a14cf174d3c3",
   "metadata": {},
   "source": [
    "#Solution no.1"
   ]
  },
  {
   "cell_type": "code",
   "execution_count": null,
   "id": "88744729-7593-4ff2-9a62-22e468ba9c9e",
   "metadata": {},
   "outputs": [],
   "source": [
    "s=\"raghav\""
   ]
  },
  {
   "cell_type": "code",
   "execution_count": 12,
   "id": "0418eec7-9ad5-41b0-a5c3-6bc3fac849ae",
   "metadata": {},
   "outputs": [
    {
     "data": {
      "text/plain": [
       "str"
      ]
     },
     "execution_count": 12,
     "metadata": {},
     "output_type": "execute_result"
    }
   ],
   "source": [
    "type(s)"
   ]
  },
  {
   "cell_type": "code",
   "execution_count": 13,
   "id": "3af575b0-f27d-4b75-9eeb-da70eea5bc85",
   "metadata": {},
   "outputs": [],
   "source": [
    "r=['raghav',2.1,1+2j]"
   ]
  },
  {
   "cell_type": "code",
   "execution_count": 14,
   "id": "a3779369-ba6f-431e-be1a-54ba43c25390",
   "metadata": {},
   "outputs": [
    {
     "data": {
      "text/plain": [
       "list"
      ]
     },
     "execution_count": 14,
     "metadata": {},
     "output_type": "execute_result"
    }
   ],
   "source": [
    "type(r)"
   ]
  },
  {
   "cell_type": "code",
   "execution_count": 15,
   "id": "912fd74f-cc40-45f4-b180-9f78ac2b03d0",
   "metadata": {},
   "outputs": [],
   "source": [
    "t=7.6"
   ]
  },
  {
   "cell_type": "code",
   "execution_count": 16,
   "id": "4c84b0bc-5cab-41a6-a482-212c2781622d",
   "metadata": {},
   "outputs": [
    {
     "data": {
      "text/plain": [
       "float"
      ]
     },
     "execution_count": 16,
     "metadata": {},
     "output_type": "execute_result"
    }
   ],
   "source": [
    "type(t)"
   ]
  },
  {
   "cell_type": "code",
   "execution_count": 6,
   "id": "cdb273cd-3862-4bcf-a3b1-4ebf041575d9",
   "metadata": {},
   "outputs": [],
   "source": [
    "t1=(\"tyagi\",4)"
   ]
  },
  {
   "cell_type": "code",
   "execution_count": 7,
   "id": "47d91295-0390-4c65-b43c-1e29e6c919a2",
   "metadata": {},
   "outputs": [
    {
     "data": {
      "text/plain": [
       "tuple"
      ]
     },
     "execution_count": 7,
     "metadata": {},
     "output_type": "execute_result"
    }
   ],
   "source": [
    "type(t1)"
   ]
  },
  {
   "cell_type": "markdown",
   "id": "572c5c09-7047-437e-82ce-394fb0e41322",
   "metadata": {},
   "source": [
    "#Solution no.3"
   ]
  },
  {
   "cell_type": "markdown",
   "id": "7c512a6d-3558-4dbe-8cc4-cf2330bebb17",
   "metadata": {},
   "source": [
    "string"
   ]
  },
  {
   "cell_type": "markdown",
   "id": "6aea3c3a-8d98-4862-a56e-06f84ae0da5e",
   "metadata": {},
   "source": [
    "string"
   ]
  },
  {
   "cell_type": "markdown",
   "id": "27bdc8fc-e5a0-40ba-aade-0947f4b24ae0",
   "metadata": {},
   "source": [
    "list"
   ]
  },
  {
   "cell_type": "markdown",
   "id": "fdbebe64-7fc1-40bf-9e16-6aaa5a272b62",
   "metadata": {},
   "source": [
    "integer"
   ]
  },
  {
   "cell_type": "markdown",
   "id": "c0d134b3-96e5-407d-94e5-25af267f4170",
   "metadata": {
    "jp-MarkdownHeadingCollapsed": true,
    "tags": []
   },
   "source": [
    "#Solution no.3"
   ]
  },
  {
   "cell_type": "markdown",
   "id": "6a362cbb-b78e-43b5-bad5-2760ea48783b",
   "metadata": {},
   "source": [
    "'/'operator is used to perform division upto certain decimal places.\n"
   ]
  },
  {
   "cell_type": "markdown",
   "id": "ab2133fc-da6d-4d35-9fd0-2c89c582d34e",
   "metadata": {},
   "source": [
    "'%'operator is used to find the remainder during division.\n"
   ]
  },
  {
   "cell_type": "markdown",
   "id": "64560533-9c25-4c60-8005-e3ffa9e4b6bb",
   "metadata": {},
   "source": [
    "'//'operator is used to find the whole number quotient during division(means quotient, excluding the digits which comes after decimal point).\n"
   ]
  },
  {
   "cell_type": "markdown",
   "id": "5f5fa0d5-f69b-4640-bfb1-119b19ab7ffb",
   "metadata": {},
   "source": [
    "'**'operator is used for exponentiation."
   ]
  },
  {
   "cell_type": "markdown",
   "id": "c61b6795-c1f3-40f7-847f-95b15efd56f1",
   "metadata": {},
   "source": [
    "#Solution no.4"
   ]
  },
  {
   "cell_type": "code",
   "execution_count": 10,
   "id": "4e85a3db-dee7-431b-b1fe-2ec434da0b48",
   "metadata": {},
   "outputs": [],
   "source": [
    "l=[False,'tyagi',2,4+3j,1.0,True,'utkarsh',True,4,6]"
   ]
  },
  {
   "cell_type": "code",
   "execution_count": 11,
   "id": "c3c69a8d-2107-4746-ab99-a1acec22a53c",
   "metadata": {},
   "outputs": [
    {
     "name": "stdout",
     "output_type": "stream",
     "text": [
      "False <class 'bool'>\n",
      "tyagi <class 'str'>\n",
      "2 <class 'int'>\n",
      "(4+3j) <class 'complex'>\n",
      "1.0 <class 'float'>\n",
      "True <class 'bool'>\n",
      "utkarsh <class 'str'>\n",
      "True <class 'bool'>\n",
      "4 <class 'int'>\n",
      "6 <class 'int'>\n"
     ]
    }
   ],
   "source": [
    "for i in l :\n",
    "    print(i,type(i))"
   ]
  },
  {
   "cell_type": "markdown",
   "id": "3e612312-a022-42ba-921a-f3e6ef8d276b",
   "metadata": {},
   "source": [
    "#Solution no.5"
   ]
  },
  {
   "cell_type": "code",
   "execution_count": 5,
   "id": "7e299614-9ebd-4d31-b90b-f2ef68467d36",
   "metadata": {},
   "outputs": [
    {
     "name": "stdin",
     "output_type": "stream",
     "text": [
      "Enter the value of A: 67\n",
      "Enter the value of B: 12\n"
     ]
    },
    {
     "name": "stdout",
     "output_type": "stream",
     "text": [
      "A is not divisible by B.\n"
     ]
    }
   ],
   "source": [
    "A=int(input(\"Enter the value of A:\"))\n",
    "B=int(input(\"Enter the value of B:\"))\n",
    "division_count = 0\n",
    "while A%B==0:\n",
    "    division_count += 1\n",
    "    A//=B\n",
    "if division_count>0:\n",
    "    print(f\"A is divisible by B,and it can be divided {division_count} times.\")\n",
    "else:\n",
    "    print(\"A is not divisible by B.\")"
   ]
  },
  {
   "cell_type": "markdown",
   "id": "7596600e-43d3-412b-b52e-269f996595c4",
   "metadata": {},
   "source": [
    "#Solution no.6"
   ]
  },
  {
   "cell_type": "code",
   "execution_count": null,
   "id": "c61704cd-0d14-4ff4-853f-9fb076039720",
   "metadata": {},
   "outputs": [],
   "source": [
    "l1=[1,2,3,4,5,6,7,8,9,10,11,12,13,14,15,16,17,18,19,20,21,22,23,24,25]"
   ]
  },
  {
   "cell_type": "code",
   "execution_count": 4,
   "id": "cf645f06-46dd-4362-bf19-5344b1595d8d",
   "metadata": {},
   "outputs": [
    {
     "name": "stdout",
     "output_type": "stream",
     "text": [
      "The number is not divisible by 3\n",
      "The number is not divisible by 3\n",
      "The number is divisible by 3\n",
      "The number is not divisible by 3\n",
      "The number is not divisible by 3\n",
      "The number is divisible by 3\n",
      "The number is not divisible by 3\n",
      "The number is not divisible by 3\n",
      "The number is divisible by 3\n",
      "The number is not divisible by 3\n",
      "The number is not divisible by 3\n",
      "The number is divisible by 3\n",
      "The number is not divisible by 3\n",
      "The number is not divisible by 3\n",
      "The number is divisible by 3\n",
      "The number is not divisible by 3\n",
      "The number is not divisible by 3\n",
      "The number is divisible by 3\n",
      "The number is not divisible by 3\n",
      "The number is not divisible by 3\n",
      "The number is divisible by 3\n",
      "The number is not divisible by 3\n",
      "The number is not divisible by 3\n",
      "The number is divisible by 3\n",
      "The number is not divisible by 3\n"
     ]
    }
   ],
   "source": [
    "for i in l1 :\n",
    "    if i%3==0:\n",
    "        print(\"The number is divisible by 3\")\n",
    "    else:\n",
    "        print(\"The number is not divisible by 3\")"
   ]
  },
  {
   "cell_type": "markdown",
   "id": "7bb4524e-7361-47a2-9ac5-dd3d6cf88f8c",
   "metadata": {},
   "source": [
    "#Solution no.7"
   ]
  },
  {
   "cell_type": "markdown",
   "id": "7c8d9059-7550-42e3-892e-4da7490f2c52",
   "metadata": {},
   "source": [
    "mutable data types are those in which we can do index assignment immutable datatypes are those in which we cannot do index assignment.\n",
    "Examples of mutable datatypes  are: 'list and tuple'.\n",
    "Example of immutable data type is 'string'.\n"
   ]
  }
 ],
 "metadata": {
  "kernelspec": {
   "display_name": "Python 3 (ipykernel)",
   "language": "python",
   "name": "python3"
  },
  "language_info": {
   "codemirror_mode": {
    "name": "ipython",
    "version": 3
   },
   "file_extension": ".py",
   "mimetype": "text/x-python",
   "name": "python",
   "nbconvert_exporter": "python",
   "pygments_lexer": "ipython3",
   "version": "3.10.8"
  }
 },
 "nbformat": 4,
 "nbformat_minor": 5
}
