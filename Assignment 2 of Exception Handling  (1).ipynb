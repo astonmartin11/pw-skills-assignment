{
 "cells": [
  {
   "cell_type": "markdown",
   "id": "6a6bb49d-8c9a-4bce-9779-443cd5f6c15a",
   "metadata": {},
   "source": [
    "# Solution 1"
   ]
  },
  {
   "cell_type": "markdown",
   "id": "a6bcea55-a908-4c41-b78f-eb369c6247af",
   "metadata": {},
   "source": [
    "In Python, all built-in exceptions inherit from the Exception class, which is the base class for all exceptions. When creating custom exceptions, we derive them from Exception to ensure that they behave like standard exceptions and can be caught using except Exception:. This allows our custom exceptions to integrate seamlessly with Python’s exception-handling mechanism."
   ]
  },
  {
   "cell_type": "markdown",
   "id": "5d957f84-5894-431f-9898-4cf8679786b3",
   "metadata": {},
   "source": [
    "# Solution 2"
   ]
  },
  {
   "cell_type": "code",
   "execution_count": 8,
   "id": "8d3e0a33-aa82-40d7-85bb-9b88f5816204",
   "metadata": {},
   "outputs": [
    {
     "name": "stdout",
     "output_type": "stream",
     "text": [
      "BaseException\n",
      "BaseExceptionGroup\n",
      "ExceptionGroup\n",
      "Exception\n",
      "ArithmeticError\n",
      "FloatingPointError\n",
      "OverflowError\n",
      "ZeroDivisionError\n",
      "DivisionByZero\n",
      "DivisionUndefined\n"
     ]
    }
   ],
   "source": [
    "import builtins\n",
    "\n",
    "def get_exception_hierarchy(cls, seen, results, max_count):\n",
    "    if cls in seen or len(results) >= max_count:\n",
    "        return\n",
    "    seen.add(cls)\n",
    "    results.append(cls)\n",
    "    for subclass in cls.__subclasses__():\n",
    "        get_exception_hierarchy(subclass, seen, results, max_count)\n",
    "\n",
    "seen = set()\n",
    "results = []\n",
    "get_exception_hierarchy(BaseException, seen, results, max_count=10)\n",
    "\n",
    "# Print the class names nicely\n",
    "for cls in results:\n",
    "    print(cls.__name__)\n"
   ]
  },
  {
   "cell_type": "markdown",
   "id": "2539be01-12de-4465-9a27-31937a6e4fa7",
   "metadata": {},
   "source": [
    "# Solution 3"
   ]
  },
  {
   "cell_type": "raw",
   "id": "9149701b-918c-4253-8cd6-df5afbb9ee6c",
   "metadata": {},
   "source": [
    "The ArithmeticError class is a base class for errors related to arithmetic operations. Some common errors derived from it are:\n",
    "\n",
    "1)ZeroDivisionError: Raised when dividing by zero.\n",
    "2)OverflowError: Raised when a number exceeds the maximum representable limit."
   ]
  },
  {
   "cell_type": "code",
   "execution_count": 9,
   "id": "e2ae73f8-2ff2-478a-bc44-3b9265368d3f",
   "metadata": {},
   "outputs": [
    {
     "name": "stdout",
     "output_type": "stream",
     "text": [
      "Error: division by zero\n"
     ]
    }
   ],
   "source": [
    "try:# example of zero division error\n",
    "    result = 10 / 0\n",
    "except ZeroDivisionError as e:\n",
    "    print(\"Error:\", e)\n",
    "    "
   ]
  },
  {
   "cell_type": "code",
   "execution_count": 10,
   "id": "d571acc3-1bc0-4cfa-a691-4cb25f9b7524",
   "metadata": {},
   "outputs": [
    {
     "name": "stdout",
     "output_type": "stream",
     "text": [
      "Error: math range error\n"
     ]
    }
   ],
   "source": [
    "import math# example of overflow error:\n",
    "\n",
    "try:\n",
    "    result = math.exp(1000)  # Exponential function causing overflow\n",
    "except OverflowError as e:\n",
    "    print(\"Error:\", e)"
   ]
  },
  {
   "cell_type": "markdown",
   "id": "b0fd95b3-9f6f-45b9-98bc-a1a8170a21e4",
   "metadata": {},
   "source": [
    "# Solution 4"
   ]
  },
  {
   "cell_type": "raw",
   "id": "6d567d77-00f5-4dad-8588-ad853d1cac5a",
   "metadata": {},
   "source": [
    "The LookupError class is a base class for errors that occur when looking up an element in a sequence or mapping. It has two main subclasses:\n",
    "\n",
    "1)KeyError: Raised when a dictionary key is not found.\n",
    "2)IndexError: Raised when accessing an invalid index in a list or tuple."
   ]
  },
  {
   "cell_type": "code",
   "execution_count": 11,
   "id": "de8842e3-2a27-4688-bc3d-44b820433c5a",
   "metadata": {},
   "outputs": [
    {
     "name": "stdout",
     "output_type": "stream",
     "text": [
      "KeyError: 'age'\n"
     ]
    }
   ],
   "source": [
    "try:# example of key error\n",
    "    my_dict = {\"name\": \"Alice\"}\n",
    "    print(my_dict[\"age\"])  # Key does not exist\n",
    "except KeyError as e:\n",
    "    print(\"KeyError:\", e)\n"
   ]
  },
  {
   "cell_type": "code",
   "execution_count": 12,
   "id": "403e201b-fc5d-4fe3-8c04-13b2336c5135",
   "metadata": {},
   "outputs": [
    {
     "name": "stdout",
     "output_type": "stream",
     "text": [
      "IndexError: list index out of range\n"
     ]
    }
   ],
   "source": [
    "try:# example of index error\n",
    "    my_list = [1, 2, 3]\n",
    "    print(my_list[5])  # Index out of range\n",
    "except IndexError as e:\n",
    "    print(\"IndexError:\", e)\n"
   ]
  },
  {
   "cell_type": "markdown",
   "id": "8b9ccbcc-5095-47b0-8e89-ae4718802b47",
   "metadata": {},
   "source": [
    "# Solution 5"
   ]
  },
  {
   "cell_type": "markdown",
   "id": "3693f24a-23a9-4c30-accb-6f2b518d0728",
   "metadata": {},
   "source": [
    "ImportError: Raised when an import statement fails due to missing or incorrect modules.\n",
    "* ModuleNotFoundError: A subclass of ImportError, specifically raised when a module is not found."
   ]
  },
  {
   "cell_type": "markdown",
   "id": "42c0c019-1bf5-4230-aead-c758b8a53df9",
   "metadata": {},
   "source": [
    "# Solution 6"
   ]
  },
  {
   "cell_type": "raw",
   "id": "1b6ca910-e95a-4302-a290-59ff8d3a99e5",
   "metadata": {},
   "source": [
    "1)We should use 'Logging' Instead of Print Statements.\n",
    "2)Define 'Custom Exceptions' for Specific Use Cases.\n",
    "3)Use 'with' Statement for File Handling to Ensure Proper Cleanup.\n",
    "4)Avoid Catching and Raising the Same Exception.\n",
    "5)Raise 'Exceptions' Instead of Returning Error Codes.\n",
    "6)Use finally for Cleanup Operations."
   ]
  },
  {
   "cell_type": "code",
   "execution_count": null,
   "id": "b540f061-6fa9-42ef-a9c7-5a9900bff5e5",
   "metadata": {},
   "outputs": [],
   "source": []
  },
  {
   "cell_type": "code",
   "execution_count": null,
   "id": "cf68de14-62dc-4cc9-aed3-b2bf506f0899",
   "metadata": {},
   "outputs": [],
   "source": []
  }
 ],
 "metadata": {
  "kernelspec": {
   "display_name": "Python 3 (ipykernel)",
   "language": "python",
   "name": "python3"
  },
  "language_info": {
   "codemirror_mode": {
    "name": "ipython",
    "version": 3
   },
   "file_extension": ".py",
   "mimetype": "text/x-python",
   "name": "python",
   "nbconvert_exporter": "python",
   "pygments_lexer": "ipython3",
   "version": "3.13.2"
  }
 },
 "nbformat": 4,
 "nbformat_minor": 5
}
