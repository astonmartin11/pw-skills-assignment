{
 "cells": [
  {
   "cell_type": "markdown",
   "id": "adbdce0c-b2b8-4e5f-b9a1-593f4568089c",
   "metadata": {},
   "source": [
    "# Solution No. 1"
   ]
  },
  {
   "cell_type": "markdown",
   "id": "d22e5d0f-e6ac-46a7-bbbf-a66fb6619b0d",
   "metadata": {},
   "source": [
    " In OOPS(object oriented programming systems) A Class is a blueprint or template that defines the properties(attributes) and behaviours(methods) of an object.It serves as a blueprint for creating objects,which are instances of the Class.\n",
    " An Object is a specific instance of a class.It has its own unique set of attributes and can perform the behaviours defined by the class."
   ]
  },
  {
   "cell_type": "code",
   "execution_count": 2,
   "id": "9205b691-d32c-4542-96d1-407b9e7be02d",
   "metadata": {},
   "outputs": [
    {
     "name": "stdout",
     "output_type": "stream",
     "text": [
      "Buddy\n",
      "Bella is sitting.\n",
      "woof\n"
     ]
    }
   ],
   "source": [
    "class Dog:\n",
    "    def __init__(self,name,breed,age):\n",
    "        self.name=name\n",
    "        self.breed=breed\n",
    "        self.age=age\n",
    "    def bark(self):\n",
    "        print(\"woof\")\n",
    "    def sit(self):\n",
    "        print(f\"{self.name} is sitting.\")\n",
    "    def fetch(self,toy):\n",
    "        print(f\"{self.name} is fetching the {toy}.\")\n",
    "#creating objects of the dog class\n",
    "buddy=Dog(\"Buddy\",\"labrador\",5)\n",
    "bella=Dog(\"Bella\",\"poodle\",3)\n",
    "# accessing object attributs and calling object methods\n",
    "print(buddy.name)\n",
    "bella.sit()\n",
    "buddy.bark()\n",
    "    \n",
    "    "
   ]
  },
  {
   "cell_type": "markdown",
   "id": "b050f05e-bf59-4a91-9b89-d76a31fd013b",
   "metadata": {},
   "source": [
    "# Solution No. 2"
   ]
  },
  {
   "cell_type": "markdown",
   "id": "ec0a90f8-78ec-4791-a46d-69f717bbf8be",
   "metadata": {},
   "source": [
    "The four pillars of the OOPs are :\n",
    "1) Polymorphism \n",
    "2) Encapsulation\n",
    "3) Inheritance\n",
    "4) Abstraction"
   ]
  },
  {
   "cell_type": "markdown",
   "id": "2a4eeea1-50f7-4665-915e-a3c53c76501e",
   "metadata": {},
   "source": [
    "# Solution No. 3"
   ]
  },
  {
   "cell_type": "markdown",
   "id": "d1603fbe-71c5-48cd-bce4-5a840c4e6635",
   "metadata": {},
   "source": [
    "The __init__() function, also known as the constructor, is a special method in object-oriented programming  system (OOPs) that is used to initialize the attributes (variables) of an object when it is created. "
   ]
  },
  {
   "cell_type": "code",
   "execution_count": 9,
   "id": "287aa86d-ba18-4b19-8937-d2f7aeab0d3b",
   "metadata": {},
   "outputs": [
    {
     "data": {
      "text/plain": [
       "(9045307541, 'tyagi@gmail.com', 22009010)"
      ]
     },
     "execution_count": 9,
     "metadata": {},
     "output_type": "execute_result"
    }
   ],
   "source": [
    "class pwskills:\n",
    "    def __init__(self,phone_number,email_id,student_id):\n",
    "        self.phone_number=phone_number\n",
    "        self.email_id=email_id\n",
    "        self.student_id=student_id\n",
    "    def return_student_details(self) :\n",
    "        return self.phone_number,self.email_id,self.student_id\n",
    "Utkarsh_tyagi=pwskills(9045307541,\"tyagi@gmail.com\",22009010)\n",
    "Utkarsh_tyagi.return_student_details()"
   ]
  },
  {
   "cell_type": "markdown",
   "id": "4745ac86-a5fc-4410-be18-a35548a16a43",
   "metadata": {},
   "source": [
    "# Solution No. 4"
   ]
  },
  {
   "cell_type": "markdown",
   "id": "f1f2dec6-7dcf-4920-9fa2-e0a148e6c2bb",
   "metadata": {},
   "source": [
    "Self acts as a reference or pointer that binds the class to its attributes (variables) and allows the class methods to access and manipulate the object's data. "
   ]
  },
  {
   "cell_type": "markdown",
   "id": "0a5dc875-98f0-4890-ba00-0a11dd399745",
   "metadata": {},
   "source": [
    "# Solution No. 5"
   ]
  },
  {
   "cell_type": "markdown",
   "id": "25727a1e-1854-40b6-9e86-6f0d87fdf56d",
   "metadata": {},
   "source": [
    "Inheritance is the mechanism of creating a new class (derived class or child class) based on an existing class (base class or parent class). The derived class inherits the properties and behaviors of the base class.\n",
    "There are two types of Inheritance:\n",
    "1) Multi-level\n",
    "2) Multiple"
   ]
  },
  {
   "cell_type": "code",
   "execution_count": 10,
   "id": "b2f877f0-b5f7-4174-ba33-5e06fc8f4bd2",
   "metadata": {},
   "outputs": [
    {
     "name": "stdout",
     "output_type": "stream",
     "text": [
      "This is Grandparent\n",
      "This is Parent\n",
      "This is Child\n"
     ]
    }
   ],
   "source": [
    "#Example of Multi-level Inheritance\n",
    "class Grandparent:\n",
    "    def method1(self):\n",
    "        print(\"This is Grandparent\")\n",
    "\n",
    "class Parent(Grandparent):  # Inheriting from Grandparent\n",
    "    def method2(self):\n",
    "        print(\"This is Parent\")\n",
    "\n",
    "class Child(Parent):  # Inheriting from Parent\n",
    "    def method3(self):\n",
    "        print(\"This is Child\")\n",
    "\n",
    "obj = Child()\n",
    "obj.method1()  # Inherited from Grandparent\n",
    "obj.method2()  # Inherited from Parent\n",
    "obj.method3()  # Defined in Child\n"
   ]
  },
  {
   "cell_type": "code",
   "execution_count": 11,
   "id": "5df27316-68b2-45c3-a535-4832e379f54d",
   "metadata": {},
   "outputs": [
    {
     "name": "stdout",
     "output_type": "stream",
     "text": [
      "This is Parent1\n",
      "This is Parent2\n"
     ]
    }
   ],
   "source": [
    "#Example of Multiple Inheritance\n",
    "class Parent1:\n",
    "    def method1(self):\n",
    "        print(\"This is Parent1\")\n",
    "\n",
    "class Parent2:\n",
    "    def method2(self):\n",
    "        print(\"This is Parent2\")\n",
    "\n",
    "class Child(Parent1, Parent2):  # Inheriting from two parents\n",
    "    pass\n",
    "\n",
    "obj = Child()\n",
    "obj.method1()  # Inherited from Parent1\n",
    "obj.method2()  # Inherited from Parent2\n"
   ]
  },
  {
   "cell_type": "code",
   "execution_count": null,
   "id": "16ac9524-985e-450e-9993-e63bbbaac097",
   "metadata": {},
   "outputs": [],
   "source": []
  }
 ],
 "metadata": {
  "kernelspec": {
   "display_name": "Python 3 (ipykernel)",
   "language": "python",
   "name": "python3"
  },
  "language_info": {
   "codemirror_mode": {
    "name": "ipython",
    "version": 3
   },
   "file_extension": ".py",
   "mimetype": "text/x-python",
   "name": "python",
   "nbconvert_exporter": "python",
   "pygments_lexer": "ipython3",
   "version": "3.12.6"
  }
 },
 "nbformat": 4,
 "nbformat_minor": 5
}
