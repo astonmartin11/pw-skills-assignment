{
 "cells": [
  {
   "cell_type": "markdown",
   "id": "3484fe29-8dfc-4c0d-97e9-d8bee62c2453",
   "metadata": {},
   "source": [
    "# Solution 1"
   ]
  },
  {
   "cell_type": "markdown",
   "id": "910eb2a9-94ea-4bf7-8dd8-c2afce6c242c",
   "metadata": {},
   "source": [
    "Statistics is the branch of mathematics that deals with collecting, organizing, analyzing, interpreting, and presenting data. It helps in making decisions and drawing conclusions from data."
   ]
  },
  {
   "cell_type": "markdown",
   "id": "4510d121-9771-4bcc-b7ad-89728ac468a1",
   "metadata": {},
   "source": [
    "# Solution 2"
   ]
  },
  {
   "cell_type": "markdown",
   "id": "f892e74c-cbd1-4318-8e72-cdb88202a562",
   "metadata": {},
   "source": [
    "Statistics is broadly classified into two types:\n",
    "\n",
    "Descriptive Statistics:\n",
    "\n",
    "Definition: It summarizes or describes the features of a dataset.\n",
    "\n",
    "Example: Calculating the average height of students in a class.\n",
    "\n",
    "Inferential Statistics:\n",
    "\n",
    "Definition: It draws conclusions or makes predictions about a population based on a sample.\n",
    "\n",
    "Example: Predicting election results based on a survey of 1000 voters."
   ]
  },
  {
   "cell_type": "markdown",
   "id": "1a299e3d-f5af-4c03-a92a-eec0e2785f79",
   "metadata": {},
   "source": [
    "# Solution 3"
   ]
  },
  {
   "cell_type": "markdown",
   "id": "81bd4586-4db7-4eb0-b34f-3e0b928bd7d3",
   "metadata": {},
   "source": [
    "Data can be classified into two main types:\n",
    "\n",
    "Qualitative (Categorical) Data:\n",
    "\n",
    "Definition: Describes characteristics or qualities that cannot be measured numerically.\n",
    "\n",
    "    Nominal: No specific order (e.g., colors: red, green).\n",
    "\n",
    "    Ordinal: Ordered categories (e.g., grades: A, B, C).\n",
    "\n",
    "    Binary: Only two categories (e.g., Yes/No).\n",
    "\n",
    "Examples: Gender (Male/Female), Eye color (Blue, Brown).\n",
    "\n",
    "Quantitative (Numerical) Data:\n",
    "\n",
    "Definition: Data that can be measured and expressed numerically.\n",
    "\n",
    "    Discrete Data: Countable values (e.g., number of students).\n",
    "\n",
    "    Continuous Data: Measurable values that can take any value in a range (e.g., height, weight)."
   ]
  },
  {
   "cell_type": "markdown",
   "id": "eaa412c5-5966-41a1-87b1-133c56e75bd4",
   "metadata": {},
   "source": [
    "# Solution 4"
   ]
  },
  {
   "cell_type": "markdown",
   "id": "f6549ce7-2e82-410f-9015-de1d3b695af7",
   "metadata": {},
   "source": [
    "(i) Grading in exam: A+, A, B+, B, C+, C, D, E-\n",
    " Qualitative (Ordinal)\n",
    "\n",
    "(ii) Colour of mangoes: yellow, green, orange, red-\n",
    " Qualitative (Nominal)\n",
    "\n",
    "(iii) Height data of a class: [178.9, 179, 179.5, 176, 177.2, 178.3, 175.8,...]-\n",
    " Quantitative (Continuous)\n",
    "\n",
    "(iv) Number of mangoes exported by a farm: [500, 600, 478, 672, ...]\n",
    " Quantitative (Discrete)"
   ]
  },
  {
   "cell_type": "markdown",
   "id": "cc987b11-031e-4ac5-bafe-34ec1f7a1b2a",
   "metadata": {},
   "source": [
    "# Solution 5"
   ]
  },
  {
   "cell_type": "markdown",
   "id": "f3dbddfb-ab55-474a-a09f-1c35c0a8a95b",
   "metadata": {},
   "source": [
    "Levels of measurement describe how data is categorized and measured:\n",
    "\n",
    "Nominal: Categories without order.\n",
    "\n",
    "Example: Blood group (A, B, AB, O)\n",
    "\n",
    "Ordinal: Categories with a specific order.\n",
    "\n",
    "Example: Customer satisfaction (Poor, Fair, Good, Excellent)\n",
    "\n",
    "Interval: Ordered values with equal intervals but no true zero.\n",
    "\n",
    "Example: Temperature in Celsius\n",
    "\n",
    "Ratio: Like interval, but with a true zero point.\n",
    "\n",
    "Example: Weight in kilograms\n"
   ]
  },
  {
   "cell_type": "markdown",
   "id": "1a0e4ae2-a025-4a26-89bb-0b9632dd56f6",
   "metadata": {},
   "source": [
    "# Solution 6"
   ]
  },
  {
   "cell_type": "markdown",
   "id": "ae66f7c0-dafa-4134-a22a-1c24bf2f2c62",
   "metadata": {},
   "source": [
    "Understanding the level of measurement helps determine which statistical methods are appropriate.\n",
    "\n",
    "Example:\n",
    "You can calculate the mean for ratio data (e.g., income), but not for nominal data (e.g., eye color). Trying to calculate an average eye color would be meaningless."
   ]
  },
  {
   "cell_type": "markdown",
   "id": "3dc76c70-40ff-4291-950c-f53dc709bfa4",
   "metadata": {},
   "source": [
    "# Solution 7"
   ]
  },
  {
   "cell_type": "markdown",
   "id": "33af183d-63c7-4067-9e9d-470d5124d5e7",
   "metadata": {},
   "source": [
    "Nominal data consists of categories that have no natural order or ranking. These are simply labels used to classify items, such as colors (red, green, blue) or types of fruit.\n",
    "\n",
    "On the other hand, ordinal data also consists of categories, but these categories have a meaningful order or ranking, though the differences between the ranks are not measurable. For example, education levels like \"High School\", \"Bachelor’s\", and \"Master’s\" have a clear order but no exact numerical difference between them.\n",
    "\n",
    "In short, nominal data is unordered, while ordinal data is ordered."
   ]
  },
  {
   "cell_type": "markdown",
   "id": "92bd6c45-8ff9-4efc-ba64-c38f7977d493",
   "metadata": {},
   "source": [
    "# Solution 8"
   ]
  },
  {
   "cell_type": "markdown",
   "id": "ece7fc3c-126d-466c-bdf9-472ad2495587",
   "metadata": {},
   "source": [
    "Box Plot (Box-and-Whisker Plot): Shows data spread, median, and range.\n",
    "\n",
    "Histogram: Displays data distribution and approximate range.\n",
    "\n",
    "Line plot (for time series data): Can also indicate range over time."
   ]
  },
  {
   "cell_type": "markdown",
   "id": "e4369717-aa3f-4438-89ae-22c632f66527",
   "metadata": {},
   "source": [
    "# Solution 9"
   ]
  },
  {
   "cell_type": "markdown",
   "id": "31aeee45-bf84-4d1b-8bb6-494386d796bd",
   "metadata": {},
   "source": [
    "Descriptive statistics involves summarizing and organizing data so it can be easily understood. It includes measures like mean, median, mode, and standard deviation. For example, calculating the average score of students in a class is descriptive because it only describes that specific dataset.\n",
    "\n",
    "Inferential statistics, on the other hand, involves making predictions or generalizations about a population based on a sample. It uses tools like hypothesis testing and confidence intervals. For example, if you survey 100 voters and predict the election result for an entire city, you're using inferential statistics.\n",
    "\n",
    "In summary, descriptive statistics helps to describe the current data, while inferential statistics helps to draw conclusions beyond the data you have."
   ]
  },
  {
   "cell_type": "markdown",
   "id": "717fc4ca-a984-463a-9486-403f3999f283",
   "metadata": {},
   "source": [
    "# Solution 10"
   ]
  },
  {
   "cell_type": "markdown",
   "id": "5d7242ba-6818-4d3a-8328-b180b5a82632",
   "metadata": {},
   "source": [
    "Measures of Central Tendency:\n",
    "Mean: Average of the dataset; best for symmetrical data.\n",
    "\n",
    "Median: Middle value; good for skewed data.\n",
    "\n",
    "Mode: Most frequent value; good for categorical data.\n",
    "\n",
    "Measures of Variability (Dispersion):\n",
    "Range: Difference between max and min values.\n",
    "\n",
    "Variance: Average of squared differences from the mean.\n",
    "\n",
    "Standard Deviation: Square root of variance; shows spread of data.\n",
    "\n",
    "Interquartile Range (IQR): Difference between Q3 and Q1; useful to identify outliers."
   ]
  },
  {
   "cell_type": "code",
   "execution_count": null,
   "id": "246de746-1453-40aa-8466-49127b859683",
   "metadata": {},
   "outputs": [],
   "source": []
  }
 ],
 "metadata": {
  "kernelspec": {
   "display_name": "Python 3 (ipykernel)",
   "language": "python",
   "name": "python3"
  },
  "language_info": {
   "codemirror_mode": {
    "name": "ipython",
    "version": 3
   },
   "file_extension": ".py",
   "mimetype": "text/x-python",
   "name": "python",
   "nbconvert_exporter": "python",
   "pygments_lexer": "ipython3",
   "version": "3.13.2"
  }
 },
 "nbformat": 4,
 "nbformat_minor": 5
}
