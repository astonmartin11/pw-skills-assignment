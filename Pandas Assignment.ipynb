{
 "cells": [
  {
   "cell_type": "code",
   "execution_count": 1,
   "id": "e64659f6-ab4e-4837-b7e2-2369c2b47ab5",
   "metadata": {},
   "outputs": [],
   "source": [
    "import pandas as pd\n",
    "import numpy as np\n",
    "\n",
    "# For Q1-Q3\n",
    "course_name = ['Data Science', 'Machine Learning', 'Big Data', 'Data Engineer']\n",
    "duration = [2, 3, 6, 4]\n",
    "df = pd.DataFrame(data={'course_name': course_name, 'duration': duration})\n",
    "\n",
    "# For Q4-Q8\n",
    "columns = ['column_1', 'column_2', 'column_3', 'column_4', 'column_5', 'column_6']\n",
    "indices = [1, 2, 3, 4, 5, 6]\n",
    "df1 = pd.DataFrame(np.random.rand(6, 6), columns=columns, index=indices)\n"
   ]
  },
  {
   "cell_type": "markdown",
   "id": "7f6a85a6-6e71-4e9a-b5a0-d7f07761f415",
   "metadata": {},
   "source": [
    "# solution 1"
   ]
  },
  {
   "cell_type": "code",
   "execution_count": 2,
   "id": "e62d5f8d-5885-4eff-a265-28c1904c0594",
   "metadata": {},
   "outputs": [
    {
     "name": "stdout",
     "output_type": "stream",
     "text": [
      "course_name    Machine Learning\n",
      "duration                      3\n",
      "Name: 1, dtype: object\n"
     ]
    }
   ],
   "source": [
    "print(df.iloc[1])\n"
   ]
  },
  {
   "cell_type": "markdown",
   "id": "15fd86ba-b0bc-442d-b83f-7cfe6329e90c",
   "metadata": {},
   "source": [
    "# Solution 2"
   ]
  },
  {
   "cell_type": "markdown",
   "id": "f5525fce-7b25-4e29-ba61-6ead395b85b4",
   "metadata": {},
   "source": [
    "The .loc function in pandas is used to access rows and columns using labels (i.e., the actual names or indices of rows/columns as they appear in the DataFrame). It is label-based indexing.\n",
    "\n",
    "For example, df.loc[2] accesses the row where the index label is 2.\n",
    "\n",
    "On the other hand, .iloc is used to access rows and columns using integer positions. It is position-based indexing, meaning it refers to the row or column by its numerical position (starting from 0).\n",
    "\n",
    "For example, df.iloc[2] accesses the third row in the DataFrame, regardless of what the index label is."
   ]
  },
  {
   "cell_type": "markdown",
   "id": "81875cb7-484c-4adf-98c1-bc4446329fd1",
   "metadata": {},
   "source": [
    "# Solution 3"
   ]
  },
  {
   "cell_type": "code",
   "execution_count": 3,
   "id": "d0b47074-4174-49c7-85d4-1b5e5a9315dd",
   "metadata": {},
   "outputs": [
    {
     "name": "stdout",
     "output_type": "stream",
     "text": [
      "Using .loc:\n",
      " course_name    Big Data\n",
      "duration              6\n",
      "Name: 2, dtype: object\n",
      "Using .iloc:\n",
      " course_name    Machine Learning\n",
      "duration                      3\n",
      "Name: 1, dtype: object\n"
     ]
    }
   ],
   "source": [
    "reindex = [3, 0, 1, 2]\n",
    "new_df = df.reindex(reindex)\n",
    "\n",
    "print(\"Using .loc:\\n\", new_df.loc[2])\n",
    "print(\"Using .iloc:\\n\", new_df.iloc[2])\n"
   ]
  },
  {
   "cell_type": "markdown",
   "id": "ef6022cf-e5ef-40af-b0b6-57b14bf0a3d7",
   "metadata": {},
   "source": [
    "# Solution 4"
   ]
  },
  {
   "cell_type": "code",
   "execution_count": 4,
   "id": "72614e70-b6e1-4603-9da9-0ef226ea23c4",
   "metadata": {},
   "outputs": [
    {
     "name": "stdout",
     "output_type": "stream",
     "text": [
      "Mean of each column:\n",
      " column_1    0.534472\n",
      "column_2    0.553398\n",
      "column_3    0.372695\n",
      "column_4    0.492518\n",
      "column_5    0.447269\n",
      "column_6    0.297944\n",
      "dtype: float64\n",
      "Standard Deviation of column_2:\n",
      " 0.2092240599964447\n"
     ]
    }
   ],
   "source": [
    "# (i) Mean of each column\n",
    "print(\"Mean of each column:\\n\", df1.mean())\n",
    "\n",
    "# (ii) Standard deviation of column_2\n",
    "print(\"Standard Deviation of column_2:\\n\", df1['column_2'].std())\n"
   ]
  },
  {
   "cell_type": "markdown",
   "id": "45be1559-4824-4f2d-ba21-b75954d9143e",
   "metadata": {},
   "source": [
    "# Solution 5"
   ]
  },
  {
   "cell_type": "code",
   "execution_count": 10,
   "id": "f98dbe60-b4ed-40bc-a095-f738bf54b0a6",
   "metadata": {},
   "outputs": [
    {
     "name": "stdout",
     "output_type": "stream",
     "text": [
      "Error: unsupported operand type(s) for +: 'float' and 'str'\n"
     ]
    }
   ],
   "source": [
    "df1.loc[2, 'column_2'] = 'hello'\n",
    "\n",
    "# Now try computing the mean\n",
    "try:\n",
    "    print(df1['column_2'].mean())\n",
    "except Exception as e:\n",
    "    print(\"Error:\", e)\n",
    "#we get a TypeError because column_2 now contains a string, making it non-numeric. Pandas cannot compute mean on non-numeric data."
   ]
  },
  {
   "cell_type": "markdown",
   "id": "f3a92d96-9a49-45f0-a8de-81432b342799",
   "metadata": {},
   "source": [
    "# Solution 6"
   ]
  },
  {
   "cell_type": "markdown",
   "id": "ca895ef8-a76b-41ef-89d2-0d342760eaf7",
   "metadata": {},
   "source": [
    "Window functions allow operations over a sliding window of values in a DataFrame or Series.\n",
    "\n",
    "Types:\n",
    "\n",
    "Rolling window: e.g., .rolling(window=3).mean()\n",
    "\n",
    "Expanding window: e.g., .expanding().sum()\n",
    "\n",
    "Exponentially weighted window: e.g., .ewm(span=2).mean()\n",
    "\n",
    "Used for smoothing, trends, moving averages, etc.\n",
    "\n"
   ]
  },
  {
   "cell_type": "markdown",
   "id": "44967516-e08a-48fd-90d3-c7dda5f60768",
   "metadata": {},
   "source": [
    "# Solution 7"
   ]
  },
  {
   "cell_type": "code",
   "execution_count": 16,
   "id": "64d9b824-5a3a-47c9-9e94-57cf17a89e64",
   "metadata": {},
   "outputs": [
    {
     "name": "stdout",
     "output_type": "stream",
     "text": [
      "Current Month: 4\n",
      "Current Year: 2025\n"
     ]
    }
   ],
   "source": [
    "now = pd.Timestamp.now()\n",
    "print(\"Current Month:\", now.month)\n",
    "print(\"Current Year:\", now.year)"
   ]
  },
  {
   "cell_type": "markdown",
   "id": "d0b1650f-75e8-4941-bdf3-0e935c008e9c",
   "metadata": {},
   "source": [
    "# Solution 8"
   ]
  },
  {
   "cell_type": "code",
   "execution_count": 17,
   "id": "3dddb806-70df-4b4d-9b80-d0596e3f67a0",
   "metadata": {},
   "outputs": [
    {
     "name": "stdin",
     "output_type": "stream",
     "text": [
      "Enter first date (YYYY-MM-DD):  2024-11-01\n",
      "Enter second date (YYYY-MM-DD):  2024-11-04\n"
     ]
    },
    {
     "name": "stdout",
     "output_type": "stream",
     "text": [
      "Difference: 3 days, 72.0 hours, 4320.0 minutes\n"
     ]
    }
   ],
   "source": [
    "date1 = pd.to_datetime(input(\"Enter first date (YYYY-MM-DD): \"))\n",
    "date2 = pd.to_datetime(input(\"Enter second date (YYYY-MM-DD): \"))\n",
    "\n",
    "delta = abs(date2 - date1)\n",
    "\n",
    "print(f\"Difference: {delta.days} days, {delta.total_seconds() // 3600} hours, {delta.total_seconds() // 60} minutes\")"
   ]
  },
  {
   "cell_type": "markdown",
   "id": "e48cd1e1-3504-4a6d-a689-cfcda5e9e1c5",
   "metadata": {},
   "source": [
    "# Solution 9"
   ]
  },
  {
   "cell_type": "code",
   "execution_count": 14,
   "id": "080d138d-323b-4ec0-b5e4-61d5131f2616",
   "metadata": {},
   "outputs": [
    {
     "name": "stdin",
     "output_type": "stream",
     "text": [
      "Enter the file path of the CSV file:  sample_contacts.csv\n",
      "Enter the column name to convert to categorical:  Email\n",
      "Enter the category order separated by commas:  dave.b@example.com,alice@example.com,carolw@example.com,bob.jones@example.com\n"
     ]
    },
    {
     "name": "stdout",
     "output_type": "stream",
     "text": [
      "\n",
      "Sorted DataFrame:\n",
      "          Name                  Email       Phone         City\n",
      "3   Dave Brown     dave.b@example.com  4567890123      Houston\n",
      "0  Alice Smith      alice@example.com  1234567890     New York\n",
      "2  Carol White     carolw@example.com  3456789012      Chicago\n",
      "1    Bob Jones  bob.jones@example.com  2345678901  Los Angeles\n"
     ]
    }
   ],
   "source": [
    "import pandas as pd\n",
    "\n",
    "# Prompting the user\n",
    "file_path = input(\"Enter the file path of the CSV file: \")\n",
    "column_name = input(\"Enter the column name to convert to categorical: \")\n",
    "category_order = input(\"Enter the category order separated by commas: \").split(',')\n",
    "\n",
    "# Read the CSV file\n",
    "df = pd.read_csv(file_path)\n",
    "\n",
    "# Convert the column to categorical with specified order\n",
    "df[column_name] = pd.Categorical(df[column_name], categories=category_order, ordered=True)\n",
    "\n",
    "# Sort the DataFrame based on the categorical column\n",
    "sorted_df = df.sort_values(by=column_name)\n",
    "\n",
    "print(\"\\nSorted DataFrame:\")\n",
    "print(sorted_df)"
   ]
  },
  {
   "cell_type": "markdown",
   "id": "ec7450e3-15ce-4b8a-a6e3-978aea04d8c0",
   "metadata": {},
   "source": [
    "# Solution 10"
   ]
  },
  {
   "cell_type": "code",
   "execution_count": 15,
   "id": "58c0e04e-85c9-4853-a6b2-fd9acb808542",
   "metadata": {},
   "outputs": [
    {
     "name": "stdin",
     "output_type": "stream",
     "text": [
      "Enter the file path of the CSV file:  sales_data.csv\n"
     ]
    },
    {
     "data": {
      "image/png": "[encoded data removed]",
      "text/plain": [
       "<Figure size 1000x600 with 1 Axes>"
      ]
     },
     "metadata": {},
     "output_type": "display_data"
    }
   ],
   "source": [
    "import pandas as pd\n",
    "import matplotlib.pyplot as plt\n",
    "\n",
    "# Prompting user for file path\n",
    "file_path = input(\"Enter the file path of the CSV file: \")\n",
    "\n",
    "# Read the CSV file\n",
    "df = pd.read_csv(file_path)\n",
    "\n",
    "# Assume structure: Date, Product, Sales\n",
    "# Pivot the table to get products as columns\n",
    "pivot_df = df.pivot_table(index='Date', columns='Product', values='Sales', aggfunc='sum')\n",
    "\n",
    "# Plot stacked bar chart\n",
    "pivot_df.plot(kind='bar', stacked=True, figsize=(10, 6))\n",
    "plt.title('Sales of Product Categories Over Time')\n",
    "plt.xlabel('Date')\n",
    "plt.ylabel('Sales')\n",
    "plt.legend(title='Product')\n",
    "plt.tight_layout()\n",
    "plt.show()"
   ]
  },
  {
   "cell_type": "markdown",
   "id": "3a6f2288-8da6-4202-bd72-750b15060bfb",
   "metadata": {},
   "source": [
    "# Solution 11"
   ]
  },
  {
   "cell_type": "code",
   "execution_count": 3,
   "id": "ed85fcba-39a8-4cd6-a6e2-e5c264e2f3c8",
   "metadata": {},
   "outputs": [
    {
     "name": "stdin",
     "output_type": "stream",
     "text": [
      "Enter the file path of the CSV file containing the student data:  student_data.csv\n"
     ]
    },
    {
     "name": "stdout",
     "output_type": "stream",
     "text": [
      "\n",
      "Statistics Summary:\n",
      "Statistic Value\n",
      "     Mean  83.5\n",
      "   Median  85.0\n",
      "     Mode    85\n"
     ]
    }
   ],
   "source": [
    "import pandas as pd\n",
    "\n",
    "# Read the CSV file\n",
    "file_path = input(\"Enter the file path of the CSV file containing the student data: \")\n",
    "df = pd.read_csv(file_path)\n",
    "\n",
    "# Calculate mean, median, and mode\n",
    "mean_val = df['Test Score'].mean()\n",
    "median_val = df['Test Score'].median()\n",
    "mode_val = df['Test Score'].mode()\n",
    "\n",
    "# Format mode as string\n",
    "mode_str = ', '.join(map(str, mode_val.tolist()))\n",
    "\n",
    "# Create a summary DataFrame\n",
    "summary_df = pd.DataFrame({\n",
    "    'Statistic': ['Mean', 'Median', 'Mode'],\n",
    "    'Value': [round(mean_val, 2), median_val, mode_str]\n",
    "})\n",
    "\n",
    "# Print the table\n",
    "print(\"\\nStatistics Summary:\")\n",
    "print(summary_df.to_string(index=False))"
   ]
  },
  {
   "cell_type": "code",
   "execution_count": null,
   "id": "945004f1-71e9-47ca-a8d4-d7686e51f4c8",
   "metadata": {},
   "outputs": [],
   "source": []
  }
 ],
 "metadata": {
  "kernelspec": {
   "display_name": "Python 3 (ipykernel)",
   "language": "python",
   "name": "python3"
  },
  "language_info": {
   "codemirror_mode": {
    "name": "ipython",
    "version": 3
   },
   "file_extension": ".py",
   "mimetype": "text/x-python",
   "name": "python",
   "nbconvert_exporter": "python",
   "pygments_lexer": "ipython3",
   "version": "3.13.2"
  }
 },
 "nbformat": 4,
 "nbformat_minor": 5
}
