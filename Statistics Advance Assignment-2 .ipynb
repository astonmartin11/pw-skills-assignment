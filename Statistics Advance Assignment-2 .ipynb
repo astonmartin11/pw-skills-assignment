{
 "cells": [
  {
   "cell_type": "markdown",
   "id": "5bde271d-2033-4223-bc94-65ba16725db1",
   "metadata": {},
   "source": [
    "# Solution 1"
   ]
  },
  {
   "cell_type": "markdown",
   "id": "2dbbe9d5-e0e7-435c-a8cc-c57d8c9004fe",
   "metadata": {},
   "source": [
    "PMF applies to discrete random variables and gives the probability that a discrete random variable is exactly equal to some value.\n",
    "\n",
    "Example: Tossing a fair die once.\n",
    "    \n",
    "The PMF of the outcome X is:\n",
    "\n",
    "P(X=x)=1/6,for x=1,2,3,4,5,6\n",
    "\n",
    "PDF applies to continuous random variables and represents the relative likelihood of a random variable to take on a given value.\n",
    "    \n",
    "Since a single point has zero probability in continuous cases, we compute probabilities over an interval:\n",
    "P(a≤X≤b)=∫b,a f(x)dx\n",
    "\n",
    "Example: Height of adult males in a population (e.g., normally distributed with a mean and variance)."
   ]
  },
  {
   "cell_type": "markdown",
   "id": "12a4cde4-4b8c-4cbb-b45f-73261466cb3c",
   "metadata": {},
   "source": [
    "# Solution 2"
   ]
  },
  {
   "cell_type": "markdown",
   "id": "74669016-9ee6-40b6-a620-0ed1f0013c98",
   "metadata": {},
   "source": [
    "* The CDF gives the probability that a random variable \n",
    "  𝑋 is less than or equal to a certain value:\n",
    "\n",
    "  F(x)=P(X≤x)\n",
    "\n",
    "* Example: For a uniform distribution X∼U(0,10),\n",
    "\n",
    "  F(5)=P(X≤5)=5-0/10-0=0.5\n",
    "\n",
    "* Use of CDF:\n",
    "\n",
    "    * Helps in calculating probabilities for intervals.\n",
    "\n",
    "    * Useful in comparing distributions.\n",
    "\n",
    "    * Essential for defining percentiles and quantiles."
   ]
  },
  {
   "cell_type": "markdown",
   "id": "3bbe5376-81c6-4af3-8039-210684370c2f",
   "metadata": {},
   "source": [
    "# Solution 3"
   ]
  },
  {
   "cell_type": "markdown",
   "id": "f26dfbd3-c1cd-4efe-b057-309fca9302b8",
   "metadata": {},
   "source": [
    "* Examples:\n",
    "\n",
    "    Heights of people.\n",
    "\n",
    "    Measurement errors.\n",
    "\n",
    "    IQ scores.\n",
    "\n",
    "    Blood pressure levels.\n",
    "\n",
    "* Parameters:\n",
    "\n",
    "    μ (mean): Determines the center of the distribution.\n",
    "\n",
    "    σ (standard deviation): Determines the spread or width     of the curve.\n",
    "\n",
    "*    Larger σ → flatter and wider curve.\n",
    "     Smaller σ → narrower and steeper curve."
   ]
  },
  {
   "cell_type": "markdown",
   "id": "41f96a24-bb66-43fd-867b-6b223e97c406",
   "metadata": {},
   "source": [
    "# Solution 4"
   ]
  },
  {
   "cell_type": "markdown",
   "id": "fd6625c6-637c-41d1-b1f5-1d4ba24a81b0",
   "metadata": {},
   "source": [
    "* Importance:\n",
    "\n",
    "    Many natural and social phenomena approximate normality.\n",
    "\n",
    "    Central Limit Theorem ensures sample means are normally distributed for large samples.\n",
    "\n",
    "    Basis for statistical inference (confidence intervals, hypothesis testing).\n",
    "\n",
    "* Real-life examples:\n",
    "\n",
    "    Test scores (SAT, IQ).\n",
    "\n",
    "    Manufacturing dimensions (e.g., diameter of bolts).\n",
    "\n",
    "    Blood pressure levels."
   ]
  },
  {
   "cell_type": "markdown",
   "id": "44ae3efe-c4dd-4fbe-ae76-91fe15cf92a6",
   "metadata": {},
   "source": [
    "# Solution 5"
   ]
  },
  {
   "cell_type": "markdown",
   "id": "4a2b7737-efa3-40b5-bbcc-61cf5874139e",
   "metadata": {},
   "source": [
    "The Bernoulli distribution is a discrete probability distribution used for experiments that have only two possible outcomes: success (usually represented as 1) and failure (represented as 0). It is defined by a single parameter p, which is the probability of success. A common example of a Bernoulli distribution is flipping a coin once—if we define getting heads as a success, then the probability of success is p=0.5.\n",
    "\n",
    "The Binomial distribution, on the other hand, describes the number of successes in a fixed number n of independent Bernoulli trials, each with the same probability p of success. For example, if you flip a coin 10 times and count how many times it lands heads, the result follows a Binomial distribution with parameters n=10 and p=0.5.\n",
    "\n",
    "The key difference between the two is that the Bernoulli distribution models a single trial, while the Binomial distribution models the total number of successes over multiple trials."
   ]
  },
  {
   "cell_type": "markdown",
   "id": "205dc0b0-b2e3-4d60-8d3c-e1f8c70c9d64",
   "metadata": {},
   "source": [
    "# Solution 6"
   ]
  },
  {
   "cell_type": "markdown",
   "id": "341eefa4-a9f2-410c-9e43-335d7668906a",
   "metadata": {},
   "source": [
    "We use the Z-score formula:\n",
    "\n",
    "Z= (X−μ)/σ = (60−50)/10=1\n",
    "\n",
    "Now, using standard normal tables:\n",
    "\n",
    "P(X>60)=P(Z>1)=1−P(Z≤1)=1−0.8413=0.1587\n",
    "\n",
    "  Answer: There is a 15.87% chance that a randomly selected observation is greater than 60."
   ]
  },
  {
   "cell_type": "markdown",
   "id": "bd6184fe-e8e7-4bcd-9605-71d151f0d392",
   "metadata": {},
   "source": [
    "# Solution 7"
   ]
  },
  {
   "cell_type": "markdown",
   "id": "ac7b09ab-ded0-44d3-b945-bdb9aa1a2e0c",
   "metadata": {},
   "source": [
    "* Uniform Distribution: All outcomes in the interval are equally likely.\n",
    "\n",
    "* Example: A number selected at random between 0 and 10.\n",
    "\n",
    "    PDF:f(x)= 1/(10-0)=0.1for 0≤x≤10\n",
    "\n",
    "    So, the probability that X ∈ [4,6] is:\n",
    "\n",
    "    P(4≤X≤6)=(6−4)×0.1=0.2"
   ]
  },
  {
   "cell_type": "markdown",
   "id": "d8c3d01b-593f-453e-a736-4efaf3858147",
   "metadata": {},
   "source": [
    "# Solution 8"
   ]
  },
  {
   "cell_type": "markdown",
   "id": "d23ba4d6-ea25-454d-8b0f-d0999cc0960e",
   "metadata": {},
   "source": [
    "* Z-score is a standardized value indicating how many standard deviations a data point is from the mean:\n",
    "\n",
    "    Z= X−μ/sigma\n",
    "\n",
    " \n",
    "* Importance:\n",
    "\n",
    "    Allows comparison across different distributions.\n",
    "\n",
    "    Helps identify outliers.\n",
    "\n",
    "    Used in hypothesis testing and normal distribution calculations."
   ]
  },
  {
   "cell_type": "markdown",
   "id": "82ede26c-78a4-47ee-92fe-c2f5f429bd67",
   "metadata": {},
   "source": [
    "# Solution 9"
   ]
  },
  {
   "cell_type": "markdown",
   "id": "d5ae0b11-1628-49c8-b9c2-8572c7650c35",
   "metadata": {},
   "source": [
    "* CLT: Regardless of the population distribution, the sampling distribution of the sample mean approaches a normal distribution as the sample size increases (usually n≥30).\n",
    "\n",
    "* Significance:\n",
    "\n",
    "    Justifies the use of normal distribution in many practical cases.\n",
    "\n",
    "    Enables statistical inference (confidence intervals, hypothesis testing).\n",
    "\n",
    "    Valid even for non-normal data with sufficient sample size."
   ]
  },
  {
   "cell_type": "markdown",
   "id": "4e5b1696-9eb7-4cb4-be84-c4cc053a55da",
   "metadata": {},
   "source": [
    "# Solution 10"
   ]
  },
  {
   "cell_type": "markdown",
   "id": "22b9094b-f41d-4ed9-b556-9440fd7e5ec9",
   "metadata": {},
   "source": [
    "* Independence: Samples are drawn independently.\n",
    "\n",
    "* Identically Distributed: Each sample comes from the same population.\n",
    "\n",
    "* Finite Mean and Variance: The population has finite mean \n",
    "𝜇 and standard deviation σ.\n",
    "\n",
    "* Sufficient Sample Size: Larger sample size improves approximation (typically n≥30)."
   ]
  },
  {
   "cell_type": "code",
   "execution_count": null,
   "id": "3c39e7fa-e208-4bd5-a7f6-3a42f3029746",
   "metadata": {},
   "outputs": [],
   "source": []
  }
 ],
 "metadata": {
  "kernelspec": {
   "display_name": "Python 3 (ipykernel)",
   "language": "python",
   "name": "python3"
  },
  "language_info": {
   "codemirror_mode": {
    "name": "ipython",
    "version": 3
   },
   "file_extension": ".py",
   "mimetype": "text/x-python",
   "name": "python",
   "nbconvert_exporter": "python",
   "pygments_lexer": "ipython3",
   "version": "3.13.3"
  }
 },
 "nbformat": 4,
 "nbformat_minor": 5
}
