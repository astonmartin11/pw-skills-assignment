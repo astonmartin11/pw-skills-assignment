{
 "cells": [
  {
   "cell_type": "markdown",
   "id": "1e285652-6a8d-4314-89d9-e217a04d21eb",
   "metadata": {},
   "source": [
    "# Solution 1"
   ]
  },
  {
   "cell_type": "markdown",
   "id": "cd4ed980-731b-4dba-ad01-4156cd4f38ae",
   "metadata": {},
   "source": [
    "Multiprocessing is a Python module that allows the creation of multiple independent processes, each with its own Python interpreter and memory space. It enables true parallel execution, especially useful for CPU-bound tasks.\n",
    "\n",
    "#Why it's useful:\n",
    "\n",
    " Bypasses the Global Interpreter Lock (GIL) in CPython.\n",
    "\n",
    " Can fully utilize multiple CPU cores.\n",
    "\n",
    " Great for CPU-intensive operations like data analysis, image processing, \n",
    " simulations, etc."
   ]
  },
  {
   "cell_type": "markdown",
   "id": "9b78b509-54c0-451f-976f-e290d971a2f7",
   "metadata": {},
   "source": [
    "# Solution 2"
   ]
  },
  {
   "cell_type": "markdown",
   "id": "25f6c2a5-3d15-4bc9-84b9-436cf36dc5b4",
   "metadata": {},
   "source": [
    "* Multithreading is concurrent(pseudo-parallel) whereas ,Multprocessing follows True Parallelism.\n",
    "  \n",
    "* Multithreading is having Shared memory space whereas ,Multiprocessing is having concept of Separate memory space.\n",
    "\n",
    "  \n",
    "* Multithreading got affected by GIL whereas, Multiprocessing not affected by GIL.\n",
    "\n",
    "  \n",
    "* One thread crash may crash whole program whereas, One process crash doesn't affect others.\n",
    "  "
   ]
  },
  {
   "cell_type": "markdown",
   "id": "1cf06b0d-1ef7-49ca-8558-690e7ad313de",
   "metadata": {},
   "source": [
    "# Solution 3"
   ]
  },
  {
   "cell_type": "code",
   "execution_count": 3,
   "id": "d52c04f9-fa9e-43ff-bf37-18af30c6f364",
   "metadata": {},
   "outputs": [],
   "source": [
    "import multiprocessing\n",
    "\n",
    "def worker():\n",
    "    print(\"This is a child process\")\n",
    "\n",
    "if __name__ == \"__main__\":\n",
    "    p = multiprocessing.Process(target=worker)\n",
    "    p.start()\n",
    "    p.join()\n",
    "# output:This is a child process"
   ]
  },
  {
   "cell_type": "markdown",
   "id": "746a8d46-9184-4280-8788-ff684c25f91c",
   "metadata": {},
   "source": [
    "# Solution 4"
   ]
  },
  {
   "cell_type": "markdown",
   "id": "77c0fe2b-1be5-499d-83c9-23256b67ae5e",
   "metadata": {},
   "source": [
    "A multiprocessing pool is a collection of worker processes managed by Python’s Pool class. It allows you to:\n",
    "\n",
    "*Execute a function in parallel across multiple input values.\n",
    "\n",
    "*Automatically manage a pool of worker processes.\n",
    "\n",
    "*Use built-in methods like .map(), .apply(), and .starmap() for efficient task distribution.\n",
    "\n",
    " Why use it?: \n",
    " \n",
    " *Simplifies parallel execution.\n",
    "\n",
    " *Automates process creation and management.\n",
    "\n",
    " *Boosts performance for batch processing tasks.\n",
    "\n"
   ]
  },
  {
   "cell_type": "markdown",
   "id": "58df89e3-7110-42a4-a888-497c61cded2e",
   "metadata": {},
   "source": [
    "# Solution 5"
   ]
  },
  {
   "cell_type": "code",
   "execution_count": null,
   "id": "61f6d5ba-da22-4f30-b0ea-c578da50bcf4",
   "metadata": {},
   "outputs": [],
   "source": [
    "from multiprocessing import Pool\n",
    "\n",
    "def square(n):\n",
    "    return n * n\n",
    "\n",
    "if __name__ == \"__main__\":\n",
    "    with Pool(processes=4) as pool:  # Create a pool with 4 worker processes\n",
    "        results = pool.map(square, [1, 2, 3, 4, 5])\n",
    "        print(results)\n",
    "# output: [1,4,9,16,25]"
   ]
  },
  {
   "cell_type": "markdown",
   "id": "7fb0a5c1-b530-4f92-8ea7-5f3f1cdefc4c",
   "metadata": {},
   "source": [
    "# Solution 6"
   ]
  },
  {
   "cell_type": "code",
   "execution_count": 1,
   "id": "a5e008b7-04c9-49ca-b038-551daa3cff24",
   "metadata": {},
   "outputs": [],
   "source": [
    "import multiprocessing\n",
    "\n",
    "def print_number(num):\n",
    "    print(f\"Process printing: {num}\")\n",
    "\n",
    "if __name__ == \"__main__\":\n",
    "    numbers = [10, 20, 30, 40]\n",
    "    processes = []\n",
    "\n",
    "    for num in numbers:\n",
    "        p = multiprocessing.Process(target=print_number, args=(num,))\n",
    "        processes.append(p)\n",
    "        p.start()\n",
    "\n",
    "    for p in processes:\n",
    "        p.join()\n",
    "#output:\n",
    "#Process printing: 10\n",
    "#Process printing: 20\n",
    "#Process printing: 30\n",
    "#Process printing: 40\n"
   ]
  },
  {
   "cell_type": "code",
   "execution_count": null,
   "id": "3e688148-d81e-40b7-8955-7f3e029817fa",
   "metadata": {},
   "outputs": [],
   "source": []
  }
 ],
 "metadata": {
  "kernelspec": {
   "display_name": "Python 3 (ipykernel)",
   "language": "python",
   "name": "python3"
  },
  "language_info": {
   "codemirror_mode": {
    "name": "ipython",
    "version": 3
   },
   "file_extension": ".py",
   "mimetype": "text/x-python",
   "name": "python",
   "nbconvert_exporter": "python",
   "pygments_lexer": "ipython3",
   "version": "3.13.2"
  }
 },
 "nbformat": 4,
 "nbformat_minor": 5
}
