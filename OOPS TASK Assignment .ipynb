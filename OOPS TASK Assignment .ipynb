{
 "cells": [
  {
   "cell_type": "markdown",
   "id": "9b28a32d-b868-4acc-8220-6938215a6882",
   "metadata": {},
   "source": [
    "# Solution No. 1 and 2"
   ]
  },
  {
   "cell_type": "code",
   "execution_count": 9,
   "id": "dea4d70a-f000-435a-a98d-61e5f832d7c6",
   "metadata": {},
   "outputs": [
    {
     "name": "stdout",
     "output_type": "stream",
     "text": [
      "Innova has a seating capacity of 7 passengers.\n"
     ]
    }
   ],
   "source": [
    "# Q1: Create a Vehicle class\n",
    "class Vehicle:\n",
    "    def __init__(self, name_of_vehicle, max_speed, average_of_vehicle):\n",
    "        self.name_of_vehicle = name_of_vehicle\n",
    "        self.max_speed = max_speed\n",
    "        self.average_of_vehicle = average_of_vehicle\n",
    "\n",
    "# Q2: Create a Car class inheriting from Vehicle\n",
    "class Car(Vehicle):\n",
    "    def seating_capacity(self, capacity):\n",
    "        return f\"{self.name_of_vehicle} has a seating capacity of {capacity} passengers.\"\n",
    "\n",
    "# Example usage\n",
    "car = Car(\"Innova\", 200, 15)\n",
    "print(car.seating_capacity(7))\n"
   ]
  },
  {
   "cell_type": "markdown",
   "id": "404d3d5a-1733-4bbb-af1f-60c9d8e216f6",
   "metadata": {},
   "source": [
    "# Solution No.3"
   ]
  },
  {
   "cell_type": "markdown",
   "id": "fb1c1138-0b48-4f2e-9054-f2322ea24227",
   "metadata": {},
   "source": [
    "A single child class inherit from Multiple parent classes.The child class gets attributes and methods from more than one base class.It allows code reuse from multiple sources but can introduce complexity."
   ]
  },
  {
   "cell_type": "code",
   "execution_count": 11,
   "id": "bcd24451-2140-4ea2-820e-526e631a1ecc",
   "metadata": {},
   "outputs": [
    {
     "name": "stdout",
     "output_type": "stream",
     "text": [
      "This is Parent1\n",
      "This is Parent2\n"
     ]
    }
   ],
   "source": [
    "class Parent1:\n",
    "    def method1(self):\n",
    "        print(\"This is Parent1\")\n",
    "\n",
    "class Parent2:\n",
    "    def method2(self):\n",
    "        print(\"This is Parent2\")\n",
    "\n",
    "class Child(Parent1, Parent2):  # Inheriting from two parents\n",
    "    pass\n",
    "\n",
    "obj = Child()\n",
    "obj.method1()  # Inherited from Parent1\n",
    "obj.method2()  # Inherited from Parent2\n"
   ]
  },
  {
   "cell_type": "markdown",
   "id": "e871c20b-9773-4f39-8751-805c91aa7b85",
   "metadata": {},
   "source": [
    "# Solution No. 4"
   ]
  },
  {
   "cell_type": "markdown",
   "id": "5ca006fc-3da2-48f8-97e7-91c77df607bb",
   "metadata": {},
   "source": [
    "In Python, getter and setter methods are used to access and modify private attributes of a class.\n",
    "1) Getter (@property) retrieves the value of an attribute.\n",
    "2) Setter (@attribute_name.setter) updates the value of an attribute with validation if needed."
   ]
  },
  {
   "cell_type": "code",
   "execution_count": 12,
   "id": "cb53e419-b385-4f32-abf0-df08533da80c",
   "metadata": {},
   "outputs": [
    {
     "name": "stdout",
     "output_type": "stream",
     "text": [
      "21\n",
      "22\n",
      "Age must be positive!\n"
     ]
    }
   ],
   "source": [
    "class Student:\n",
    "    def __init__(self, name, age):\n",
    "        self._name = name       # Private attribute\n",
    "        self._age = age         # Private attribute\n",
    "\n",
    "    @property\n",
    "    def age(self):  # Getter method\n",
    "        return self._age\n",
    "\n",
    "    @age.setter\n",
    "    def age(self, new_age):  # Setter method\n",
    "        if new_age > 0:\n",
    "            self._age = new_age\n",
    "        else:\n",
    "            print(\"Age must be positive!\")\n",
    "\n",
    "# Usage\n",
    "student = Student(\"Utkarsh\", 21)\n",
    "print(student.age)  # Accessing using getter\n",
    "\n",
    "student.age = 22    # Updating using setter\n",
    "print(student.age)\n",
    "\n",
    "student.age = -5    # Invalid input, will trigger validation\n"
   ]
  },
  {
   "cell_type": "markdown",
   "id": "a830b973-beef-4f92-b54e-543778f0ec16",
   "metadata": {},
   "source": [
    "# Solution No. 5"
   ]
  },
  {
   "cell_type": "markdown",
   "id": "3e6df379-c326-4c7d-91c3-a236c2c82e35",
   "metadata": {},
   "source": [
    "Method Overriding occurs when a subclass provides a specific implementation of a method that is already defined in its parent class. The overridden method in the subclass has the same name and parameters as the parent class method."
   ]
  },
  {
   "cell_type": "code",
   "execution_count": 13,
   "id": "fe38ef17-79b3-43d0-9c0b-adc78b866703",
   "metadata": {},
   "outputs": [
    {
     "name": "stdout",
     "output_type": "stream",
     "text": [
      "Animal makes a sound\n",
      "Dog barks\n"
     ]
    }
   ],
   "source": [
    "class Animal:\n",
    "    def speak(self):\n",
    "        print(\"Animal makes a sound\")\n",
    "\n",
    "class Dog(Animal):\n",
    "    def speak(self):  # Overriding the parent method\n",
    "        print(\"Dog barks\")\n",
    "\n",
    "# Usage\n",
    "animal = Animal()\n",
    "animal.speak()  # Output: Animal makes a sound\n",
    "\n",
    "dog = Dog()\n",
    "dog.speak()  # Output: Dog barks (overridden method)\n"
   ]
  },
  {
   "cell_type": "code",
   "execution_count": null,
   "id": "36c0e2f5-3ff6-4c3d-bbc0-d52d8ca189b4",
   "metadata": {},
   "outputs": [],
   "source": []
  }
 ],
 "metadata": {
  "kernelspec": {
   "display_name": "Python 3 (ipykernel)",
   "language": "python",
   "name": "python3"
  },
  "language_info": {
   "codemirror_mode": {
    "name": "ipython",
    "version": 3
   },
   "file_extension": ".py",
   "mimetype": "text/x-python",
   "name": "python",
   "nbconvert_exporter": "python",
   "pygments_lexer": "ipython3",
   "version": "3.12.6"
  }
 },
 "nbformat": 4,
 "nbformat_minor": 5
}
