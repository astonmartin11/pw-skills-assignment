{
 "cells": [
  {
   "cell_type": "markdown",
   "id": "aac974dd-f31d-4ff7-9b02-f896b19909e0",
   "metadata": {},
   "source": [
    "# Solution 1"
   ]
  },
  {
   "cell_type": "markdown",
   "id": "0c5168ff-5091-4812-9a7f-15394996873f",
   "metadata": {},
   "source": [
    "Commenting on code in python refers to  the information which is attached with code to increse the readability of that particular code.\n",
    "There are two types of comments:\n",
    "1. Single line:These start with a '#' symbol and extend to the end of the line. They're used for brief explanations or notes.\n",
    "2. Multi line: These are typically used for longer explanations and can be created using triple quotes (''' or \"\"\"). Although they're technically multi-line strings, they can serve as comments."
   ]
  },
  {
   "cell_type": "code",
   "execution_count": 4,
   "id": "c35327cb-0c2e-4e70-ab3f-22c1f0dc08a7",
   "metadata": {},
   "outputs": [
    {
     "name": "stdout",
     "output_type": "stream",
     "text": [
      "Hello, World!\n",
      "Hello, World!\n"
     ]
    }
   ],
   "source": [
    "# This is a single-line comment\n",
    "print(\"Hello, World!\")\n",
    "\n",
    "\"\"\"This is a multi-line comment.\n",
    "It can span multiple lines.\n",
    "\"\"\"\n",
    "print(\"Hello, World!\")\n"
   ]
  },
  {
   "cell_type": "markdown",
   "id": "d1ae3283-fd34-421f-985d-4cf798316a81",
   "metadata": {},
   "source": [
    "# Solution 2"
   ]
  },
  {
   "cell_type": "markdown",
   "id": "15e3832e-4faf-4344-9a7f-92ccbb635aae",
   "metadata": {},
   "source": [
    "Variables in Python are like containers that store data values.We can think of them as labels that we attach to data so we can use and manipulate it later."
   ]
  },
  {
   "cell_type": "code",
   "execution_count": 7,
   "id": "39aeeb82-b57a-4419-813f-d24c85152537",
   "metadata": {},
   "outputs": [],
   "source": [
    "#Declaring and assigning a value to a variable\n",
    "w = 10\n",
    "s=[234,True,2+3j,\"Tyagi\"]"
   ]
  },
  {
   "cell_type": "markdown",
   "id": "b5d8b4e0-2e5e-4470-949e-9f1634332547",
   "metadata": {},
   "source": [
    "# solution 3"
   ]
  },
  {
   "cell_type": "markdown",
   "id": "f896fd19-3b21-4cc0-8422-7fae5fdf917e",
   "metadata": {},
   "source": [
    "we can convert data types using built-in functions like int(), float(), str(), list(), etc."
   ]
  },
  {
   "cell_type": "code",
   "execution_count": null,
   "id": "e86b2b85-2689-4cd8-af41-e2e965963b78",
   "metadata": {},
   "outputs": [],
   "source": [
    "# Converting a string to an integer\"\n",
    "a = \"10\"\n",
    "a1= int(a)"
   ]
  },
  {
   "cell_type": "markdown",
   "id": "f125a29b-f93b-4833-9dd9-d9856fbfe20b",
   "metadata": {},
   "source": [
    " # solution 4"
   ]
  },
  {
   "cell_type": "code",
   "execution_count": null,
   "id": "1765fa6d-fcee-44d0-bfe9-c4a7cc878fe8",
   "metadata": {},
   "outputs": [],
   "source": [
    "step1. we Write our Python code in a text file and save it with a .py extension, e.g., script.py.\n",
    "\n",
    "step2.Open our command line interface (CLI) and navigate to the directory where our script is saved.\n",
    "\n",
    "step3.Execute the script by typing python script.py and pressing Enter."
   ]
  },
  {
   "cell_type": "markdown",
   "id": "903f9a21-8028-4fa7-90df-231486a1729f",
   "metadata": {},
   "source": [
    "# soution 5"
   ]
  },
  {
   "cell_type": "code",
   "execution_count": 8,
   "id": "92325bf1-0d18-497d-b84b-a15fd1ee10c2",
   "metadata": {},
   "outputs": [
    {
     "name": "stdout",
     "output_type": "stream",
     "text": [
      "[2, 3]\n"
     ]
    }
   ],
   "source": [
    "my_list = [1, 2, 3, 4, 5]\n",
    "sub_list = my_list[1:3]\n",
    "print(sub_list)  # Output: [2, 3]\n"
   ]
  },
  {
   "cell_type": "markdown",
   "id": "3027df45-cd8f-4676-9939-5f0384ea6b65",
   "metadata": {},
   "source": [
    "# solution 6"
   ]
  },
  {
   "cell_type": "markdown",
   "id": "c6067721-917f-4ed5-9160-8783eb581d9f",
   "metadata": {},
   "source": [
    "A complex number is a number that has both a real part and an imaginary part. In Python, complex numbers are represented as a + bj, where a is the real part and b is the imaginary part."
   ]
  },
  {
   "cell_type": "code",
   "execution_count": 9,
   "id": "b6321151-2780-421c-b358-e0fa142d1a1f",
   "metadata": {},
   "outputs": [
    {
     "name": "stdout",
     "output_type": "stream",
     "text": [
      "[(3+4j)]\n"
     ]
    }
   ],
   "source": [
    "l=[3+4j]\n",
    "print(l)"
   ]
  },
  {
   "cell_type": "markdown",
   "id": "f812d365-6f38-451b-833b-b3936035fa94",
   "metadata": {},
   "source": [
    "# solution 7"
   ]
  },
  {
   "cell_type": "code",
   "execution_count": 10,
   "id": "ec729710-857b-4f7a-839d-ccfc8f89d8bf",
   "metadata": {},
   "outputs": [
    {
     "name": "stdout",
     "output_type": "stream",
     "text": [
      "25\n"
     ]
    }
   ],
   "source": [
    "age = 25\n",
    "print(age)"
   ]
  },
  {
   "cell_type": "markdown",
   "id": "2bc082b5-e6c9-4114-b257-fd8b14e16ead",
   "metadata": {},
   "source": [
    "# solution 8"
   ]
  },
  {
   "cell_type": "code",
   "execution_count": 11,
   "id": "0b220cf1-07a5-4dff-a0d3-42ee2b43f76a",
   "metadata": {},
   "outputs": [
    {
     "name": "stdout",
     "output_type": "stream",
     "text": [
      "9.99\n"
     ]
    }
   ],
   "source": [
    "price = 9.99\n",
    "# The data type of `price` is float\n",
    "print(price)"
   ]
  },
  {
   "cell_type": "markdown",
   "id": "d8ff4fb8-909b-42e5-b16b-c8cdd2780f73",
   "metadata": {},
   "source": [
    " # solution 9"
   ]
  },
  {
   "cell_type": "code",
   "execution_count": 12,
   "id": "1f11678d-8963-4a10-bd62-504736e45469",
   "metadata": {},
   "outputs": [
    {
     "name": "stdout",
     "output_type": "stream",
     "text": [
      "Utkarsh Tyagi\n"
     ]
    }
   ],
   "source": [
    "name='Utkarsh Tyagi'\n",
    "print(name)"
   ]
  },
  {
   "cell_type": "markdown",
   "id": "7992e3c7-fddb-46a4-8725-4954b66b56a0",
   "metadata": {},
   "source": [
    "# solution 10"
   ]
  },
  {
   "cell_type": "code",
   "execution_count": 14,
   "id": "a1f94a60-d9cf-4a10-8a6f-c27065bae77c",
   "metadata": {},
   "outputs": [
    {
     "name": "stdout",
     "output_type": "stream",
     "text": [
      "World\n"
     ]
    }
   ],
   "source": [
    "g = \"Hello, World!\"\n",
    "substring = g[7:12]\n",
    "print(substring) "
   ]
  },
  {
   "cell_type": "code",
   "execution_count": null,
   "id": "14e21ca6-8042-47ee-88bc-9f623ec8a1f1",
   "metadata": {},
   "outputs": [],
   "source": []
  }
 ],
 "metadata": {
  "kernelspec": {
   "display_name": "Python 3 (ipykernel)",
   "language": "python",
   "name": "python3"
  },
  "language_info": {
   "codemirror_mode": {
    "name": "ipython",
    "version": 3
   },
   "file_extension": ".py",
   "mimetype": "text/x-python",
   "name": "python",
   "nbconvert_exporter": "python",
   "pygments_lexer": "ipython3",
   "version": "3.12.6"
  }
 },
 "nbformat": 4,
 "nbformat_minor": 5
}
