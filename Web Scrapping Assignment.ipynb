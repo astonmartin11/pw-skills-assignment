{
 "cells": [
  {
   "cell_type": "markdown",
   "id": "598f7cbc-c404-450e-994c-991bc17df454",
   "metadata": {},
   "source": [
    "# Solution 1"
   ]
  },
  {
   "cell_type": "markdown",
   "id": "e099f925-504b-4a24-bf21-3d3a16137863",
   "metadata": {},
   "source": [
    "What is Web Scraping?\n",
    "\n",
    "Web scraping is the process of extracting data from websites automatically using scripts or programs. It involves fetching a webpage, parsing its content, and extracting useful data.\n",
    "\n",
    "Why is Web Scraping Used?\n",
    "\n",
    "Web scraping is used to automate data collection from websites where no official API is available. It helps in:\n",
    "\n",
    "1)Market research and competitor analysis.\n",
    "\n",
    "2)Data extraction for AI/ML models.\n",
    "\n",
    "3)Price monitoring for e-commerce.\n",
    "\n",
    "Three Areas Where Web Scraping is Used: \n",
    "\n",
    "1)E-commerce & Price Comparison – Scraping prices from multiple online stores.\n",
    "\n",
    "2)News Aggregation – Collecting news articles from different websites.\n",
    "\n",
    "3)Social Media Analysis – Extracting social media posts and trends.\n",
    "\n"
   ]
  },
  {
   "cell_type": "markdown",
   "id": "a1d9bfa3-a192-459b-b476-e7ffa025207a",
   "metadata": {},
   "source": [
    "# Solution 2"
   ]
  },
  {
   "cell_type": "markdown",
   "id": "942e711d-4419-41f1-8dcc-de8a314c4712",
   "metadata": {},
   "source": [
    "1)Manual Copy-Pasting – Extracting data manually (not efficient).\n",
    "\n",
    "2)Using APIs – Many websites provide APIs to access data directly (e.g., Twitter API).\n",
    "\n",
    "3)Parsing HTML with BeautifulSoup – Extracting specific elements from HTML pages.\n",
    "\n",
    "4)Using Selenium – Automating web browsers to scrape dynamic content.\n",
    "\n",
    "5)Using Scrapy – A Python framework for large-scale web scraping.\n",
    "\n"
   ]
  },
  {
   "cell_type": "markdown",
   "id": "f04b988b-9e4c-4425-83ad-7b3c03cf6009",
   "metadata": {},
   "source": [
    "# Solution 3"
   ]
  },
  {
   "cell_type": "markdown",
   "id": "e54216b9-2689-435d-a4d6-993e041a9184",
   "metadata": {},
   "source": [
    "What is BeautifulSoup?\n",
    "\n",
    "BeautifulSoup is a Python library used to parse and extract data from HTML and XML files. It provides an easy way to navigate and search for specific elements in web pages.\n",
    "\n",
    "Why is BeautifulSoup Used?\n",
    "\n",
    "1)Easy parsing of HTML/XML.\n",
    "\n",
    "2)Find and extract specific tags .\n",
    "\n",
    "3)Modify the HTML before saving or using it."
   ]
  },
  {
   "cell_type": "markdown",
   "id": "3c277ef8-20ab-48c2-8be3-080d7633b769",
   "metadata": {},
   "source": [
    "# Solution 4"
   ]
  },
  {
   "cell_type": "markdown",
   "id": "37dbb5c3-c9ac-436e-8eee-9ec21429c132",
   "metadata": {},
   "source": [
    "Flask is used in web scraping projects because:\n",
    "\n",
    "1)Provides a Web Interface – Users can input URLs and get scraped data as output in a \n",
    " user-friendly way.\n",
    "\n",
    "2)Handles HTTP Requests – Flask receives user requests (URLs), processes them, and \n",
    " returns the scraped data.\n",
    "\n",
    "3)API Integration – Flask allows scraped data to be served through an API, making it \n",
    " easy to use in other applications.\n",
    "\n",
    "4)Lightweight & Easy to Use – Flask is minimalistic, making it simple to integrate with \n",
    " web scraping scripts."
   ]
  },
  {
   "cell_type": "markdown",
   "id": "c4b12cd4-a0f3-4641-92f5-d01088fd92fc",
   "metadata": {},
   "source": [
    "# Solution 5"
   ]
  },
  {
   "cell_type": "markdown",
   "id": "84b11302-61e0-45fd-8c1a-45532ef900f5",
   "metadata": {},
   "source": []
  },
  {
   "cell_type": "code",
   "execution_count": null,
   "id": "37550f81-4793-439a-98ff-a7f1fd443a11",
   "metadata": {},
   "outputs": [],
   "source": []
  }
 ],
 "metadata": {
  "kernelspec": {
   "display_name": "Python 3 (ipykernel)",
   "language": "python",
   "name": "python3"
  },
  "language_info": {
   "codemirror_mode": {
    "name": "ipython",
    "version": 3
   },
   "file_extension": ".py",
   "mimetype": "text/x-python",
   "name": "python",
   "nbconvert_exporter": "python",
   "pygments_lexer": "ipython3",
   "version": "3.13.2"
  }
 },
 "nbformat": 4,
 "nbformat_minor": 5
}
