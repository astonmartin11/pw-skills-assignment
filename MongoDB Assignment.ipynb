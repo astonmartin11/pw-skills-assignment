{
 "cells": [
  {
   "cell_type": "markdown",
   "id": "69f012a5-e4c5-4034-b12b-6fc290c2ebd6",
   "metadata": {},
   "source": [
    "# Solution 1"
   ]
  },
  {
   "cell_type": "markdown",
   "id": "5f0a5eba-a4d6-40fb-b6b8-ca76612f8d32",
   "metadata": {},
   "source": [
    "MongoDB\n",
    "\n",
    "MongoDB is a NoSQL (non-relational) database that stores data in a document-oriented format (JSON-like BSON documents). It provides high performance, scalability, and flexibility compared to traditional SQL databases.\n",
    "\n",
    "Non-Relational Databases\n",
    "    \n",
    "Non-relational databases (NoSQL) store data in key-value pairs, documents, wide-column stores, or graphs instead of tables with fixed schemas. These databases are more flexible and scalable than relational databases.\n",
    "\n",
    "When to Use MongoDB Over SQL Databases?\n",
    "\n",
    "1)Unstructured or semi-structured data (e.g., JSON, XML, multimedia).\n",
    "\n",
    "2)Big data applications requiring horizontal scalability.\n",
    "\n",
    "3)Real-time analytics & IoT applications that generate large volumes of data.\n",
    "\n",
    "4)Frequent schema changes (e.g., product catalogs, content management).\n",
    "\n",
    "5)High read and write throughput in distributed systems."
   ]
  },
  {
   "cell_type": "markdown",
   "id": "8af93e8d-b5e1-4def-bafa-ecf8d0b0e21a",
   "metadata": {},
   "source": [
    "# Solution 2"
   ]
  },
  {
   "cell_type": "markdown",
   "id": "99d015d1-a60e-493f-b19e-7b1fc76963fd",
   "metadata": {},
   "source": [
    "1)Document-Oriented Storage – Stores data in BSON (binary JSON) format.\n",
    "\n",
    "2)Schema-less – No fixed schema, allowing flexible document structures.\n",
    "\n",
    "3)Scalability – Supports horizontal scaling using sharding.\n",
    "\n",
    "4)Indexing – Uses indexes for fast query performance.\n",
    "\n",
    "5)Replication – Ensures high availability using replica sets.\n",
    "\n",
    "6)Aggregation Framework – Enables complex data processing.\n",
    "\n",
    "7)Load Balancing – Distributes workload across multiple servers.\n",
    "\n",
    "8)Ad Hoc Queries – Allows dynamic queries without pre-defined structures.\n",
    "\n"
   ]
  },
  {
   "cell_type": "markdown",
   "id": "065b9e81-4231-4d53-9c71-0c0d2411ed48",
   "metadata": {},
   "source": [
    "# Solution 3"
   ]
  },
  {
   "cell_type": "code",
   "execution_count": null,
   "id": "2d770178-6cdb-4b50-9948-8e3c97bb0e0b",
   "metadata": {},
   "outputs": [],
   "source": [
    "from pymongo import MongoClient\n",
    "\n",
    "# Connect to MongoDB\n",
    "client = MongoClient(\"mongodb://localhost:27017/\")\n",
    "\n",
    "# Create a database named \"mydatabase\"\n",
    "db = client[\"mydatabase\"]\n",
    "\n",
    "# Create a collection named \"students\"\n",
    "collection = db[\"students\"]\n",
    "\n",
    "print(\"Database and Collection created successfully.\")\n",
    "\n",
    "#Explanation\n",
    "#MongoClient() → Connects to the MongoDB server.\n",
    "\n",
    "#client[\"mydatabase\"] → Creates a new database (mydatabase).\n",
    "\n",
    "#db[\"students\"] → Creates a new collection (students)"
   ]
  },
  {
   "cell_type": "markdown",
   "id": "70d5e7c8-e927-44b9-b583-f9279550ec53",
   "metadata": {},
   "source": [
    "# Solution 4"
   ]
  },
  {
   "cell_type": "code",
   "execution_count": null,
   "id": "fddade4d-51a7-4991-b0ca-732ef9781b0e",
   "metadata": {},
   "outputs": [],
   "source": [
    "# Insert One Record\n",
    "student = {\"name\": \"John Doe\", \"age\": 21, \"course\": \"Computer Science\"}\n",
    "collection.insert_one(student)\n",
    "\n",
    "# Insert Multiple Records\n",
    "students = [\n",
    "    {\"name\": \"Alice\", \"age\": 22, \"course\": \"Mechanical\"},\n",
    "    {\"name\": \"Bob\", \"age\": 23, \"course\": \"Electrical\"}\n",
    "]\n",
    "collection.insert_many(students)\n",
    "\n",
    "# Find One Record\n",
    "print(\"Single Record:\", collection.find_one())\n",
    "\n",
    "# Find All Records\n",
    "print(\"All Records:\")\n",
    "for record in collection.find():\n",
    "    print(record)\n"
   ]
  },
  {
   "cell_type": "markdown",
   "id": "a0ffb20f-2bb7-4b3d-8d11-266b2f15e913",
   "metadata": {},
   "source": [
    "# Solution 5"
   ]
  },
  {
   "cell_type": "code",
   "execution_count": null,
   "id": "a7d3f07e-a802-405b-8ee5-657e9f281575",
   "metadata": {},
   "outputs": [],
   "source": [
    "# Find all students with age > 21\n",
    "for student in collection.find({\"age\": {\"$gt\": 21}}):\n",
    "    print(student)\n",
    "#The find() method retrieves multiple records with filtering conditions.\n",
    "#Explanation:\"$gt\": 21 → Finds documents where age is greater than 21."
   ]
  },
  {
   "cell_type": "markdown",
   "id": "4040bf16-88f7-471e-bbb7-068fcbbb2a65",
   "metadata": {},
   "source": [
    "# Solution 6"
   ]
  },
  {
   "cell_type": "code",
   "execution_count": null,
   "id": "b4db3a5d-2159-43a0-b61c-3321b347ed8f",
   "metadata": {},
   "outputs": [],
   "source": [
    "The sort() method orders query results in ascending (1) or descending (-1) order.\n",
    "\n",
    "python\n",
    "Copy\n",
    "Edit\n",
    "# Sort students by age in ascending order\n",
    "for student in collection.find().sort(\"age\", 1):\n",
    "    print(student)\n",
    "\n",
    "# Sort students by name in descending order\n",
    "for student in collection.find().sort(\"name\", -1):\n",
    "    print(student)\n",
    "Explanation\n",
    "sort(\"age\", 1) → Sorts in ascending order.\n",
    "\n",
    "sort(\"name\", -1) → Sorts in descending order.\n",
    "\n"
   ]
  },
  {
   "cell_type": "markdown",
   "id": "b19cb168-5968-4121-a752-9e0172ab2a70",
   "metadata": {},
   "source": [
    "# Solution 7"
   ]
  },
  {
   "cell_type": "code",
   "execution_count": null,
   "id": "0ddb11c4-8ce6-4aef-b332-a31331131450",
   "metadata": {},
   "outputs": [],
   "source": [
    "Method\tDescription\n",
    "delete_one()\tDeletes the first matching document.\n",
    "delete_many()\tDeletes all matching documents.\n",
    "drop()\tDeletes the entire collection."
   ]
  }
 ],
 "metadata": {
  "kernelspec": {
   "display_name": "Python 3 (ipykernel)",
   "language": "python",
   "name": "python3"
  },
  "language_info": {
   "codemirror_mode": {
    "name": "ipython",
    "version": 3
   },
   "file_extension": ".py",
   "mimetype": "text/x-python",
   "name": "python",
   "nbconvert_exporter": "python",
   "pygments_lexer": "ipython3",
   "version": "3.13.2"
  }
 },
 "nbformat": 4,
 "nbformat_minor": 5
}
