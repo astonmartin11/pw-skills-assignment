{
 "cells": [
  {
   "cell_type": "markdown",
   "id": "77a48a75-06b0-48b1-be2e-76a21a8ace32",
   "metadata": {},
   "source": [
    "# Solution 1"
   ]
  },
  {
   "cell_type": "code",
   "execution_count": 1,
   "id": "2dc82f97-9c13-42b8-95aa-37bc9711d37d",
   "metadata": {},
   "outputs": [
    {
     "name": "stdout",
     "output_type": "stream",
     "text": [
      "   A   B\n",
      "0  1  10\n",
      "1  2  20\n",
      "2  3  30\n",
      "         A     B\n",
      "count  3.0   3.0\n",
      "mean   2.0  20.0\n",
      "std    1.0  10.0\n",
      "min    1.0  10.0\n",
      "25%    1.5  15.0\n",
      "50%    2.0  20.0\n",
      "75%    2.5  25.0\n",
      "max    3.0  30.0\n",
      "   A\n",
      "0  1\n",
      "1  2\n",
      "2  3\n",
      "     A\n",
      "0  1.0\n",
      "1  0.0\n",
      "2  3.0\n",
      "      Score\n",
      "Team       \n",
      "A        30\n",
      "B        15\n"
     ]
    }
   ],
   "source": [
    "import pandas as pd\n",
    "\n",
    "# Sample DataFrame\n",
    "df = pd.DataFrame({'A': [1, 2, 3], 'B': [10, 20, 30]})\n",
    "\n",
    "# 1. head() - Returns the first 5 rows\n",
    "print(df.head())\n",
    "\n",
    "# 2. describe() - Summary statistics\n",
    "print(df.describe())\n",
    "\n",
    "# 3. drop() - Drops a column\n",
    "print(df.drop('B', axis=1))\n",
    "\n",
    "# 4. fillna() - Fill missing values\n",
    "df2 = pd.DataFrame({'A': [1, None, 3]})\n",
    "print(df2.fillna(0))\n",
    "\n",
    "# 5. groupby() - Group data and apply function\n",
    "df3 = pd.DataFrame({'Team': ['A', 'A', 'B'], 'Score': [10, 20, 15]})\n",
    "print(df3.groupby('Team').sum())\n"
   ]
  },
  {
   "cell_type": "markdown",
   "id": "0376307c-4fa5-4b31-b246-de03724c3e09",
   "metadata": {},
   "source": [
    "# Solution 2"
   ]
  },
  {
   "cell_type": "code",
   "execution_count": 2,
   "id": "3a36b43c-123f-4d98-9eff-8988cc69e6ad",
   "metadata": {},
   "outputs": [
    {
     "name": "stdout",
     "output_type": "stream",
     "text": [
      "      Name  Age\n",
      "1    Alice   24\n",
      "3      Bob   30\n",
      "5  Charlie   28\n"
     ]
    }
   ],
   "source": [
    "# Create a sample dataframe\n",
    "data = {\n",
    "    'Name': ['Alice', 'Bob', 'Charlie'],\n",
    "    'Age': [24, 30, 28],\n",
    "}\n",
    "df = pd.DataFrame(data)\n",
    "\n",
    "# Define your function\n",
    "def reindex_dataframe(df):\n",
    "    df.index = range(1, 2 * len(df) + 1, 2)\n",
    "    return df\n",
    "\n",
    "# Apply the function\n",
    "updated_df = reindex_dataframe(df)\n",
    "\n",
    "# Display the updated dataframe\n",
    "print(updated_df)"
   ]
  },
  {
   "cell_type": "markdown",
   "id": "d9db0966-9c1c-42b4-b840-301e3d355b4c",
   "metadata": {},
   "source": [
    "# Solution 3"
   ]
  },
  {
   "cell_type": "code",
   "execution_count": 3,
   "id": "128bd95a-7050-46f1-a19d-a114d8a66685",
   "metadata": {},
   "outputs": [
    {
     "name": "stdout",
     "output_type": "stream",
     "text": [
      "Sum of first three values: 60\n"
     ]
    }
   ],
   "source": [
    "# Create a sample dataframe\n",
    "data = {\n",
    "    'Values': [10, 20, 30, 40, 50],\n",
    "}\n",
    "df = pd.DataFrame(data)\n",
    "\n",
    "# Define your function\n",
    "def sum_first_three(df):\n",
    "    total = df['Values'].iloc[:3].sum()\n",
    "    print(f\"Sum of first three values: {total}\")\n",
    "\n",
    "# Call the function\n",
    "sum_first_three(df)"
   ]
  },
  {
   "cell_type": "markdown",
   "id": "8480a8d7-e4e5-414c-97d6-9cdcb67a8edd",
   "metadata": {},
   "source": [
    "# Solution 4"
   ]
  },
  {
   "cell_type": "code",
   "execution_count": 4,
   "id": "ad8d06ea-3edb-4f34-aeb4-ffdf13de7cc0",
   "metadata": {},
   "outputs": [
    {
     "name": "stdout",
     "output_type": "stream",
     "text": [
      "                 Text  Word_Count\n",
      "0         Hello world           2\n",
      "1      This is a test           4\n",
      "2  Python is amazing!           3\n"
     ]
    }
   ],
   "source": [
    "# Create a sample dataframe\n",
    "data = {\n",
    "    'Text': ['Hello world', 'This is a test', 'Python is amazing!'],\n",
    "}\n",
    "df = pd.DataFrame(data)\n",
    "\n",
    "# Define your function\n",
    "def add_word_count(df):\n",
    "    df['Word_Count'] = df['Text'].apply(lambda x: len(str(x).split()))\n",
    "    return df\n",
    "\n",
    "# Apply the function\n",
    "updated_df = add_word_count(df)\n",
    "\n",
    "# Display the updated dataframe\n",
    "print(updated_df)"
   ]
  },
  {
   "cell_type": "markdown",
   "id": "2b3bf834-7ff3-4218-a861-de41b25ade8c",
   "metadata": {},
   "source": [
    "# Solution 5"
   ]
  },
  {
   "cell_type": "code",
   "execution_count": 5,
   "id": "262504a6-9bbe-4491-aa52-23830b8a62ab",
   "metadata": {},
   "outputs": [
    {
     "name": "stdout",
     "output_type": "stream",
     "text": [
      "(2, 2)\n",
      "4\n"
     ]
    }
   ],
   "source": [
    "df = pd.DataFrame({'A': [1, 2], 'B': [3, 4]})\n",
    "print(df.shape)  # (2, 2)\n",
    "print(df.size)   # 4\n"
   ]
  },
  {
   "cell_type": "markdown",
   "id": "eeacb2a0-f848-4acf-a581-61ff13220745",
   "metadata": {},
   "source": [
    "# Solution 6"
   ]
  },
  {
   "cell_type": "code",
   "execution_count": null,
   "id": "276fe31c-15af-42e3-a36e-c7762a2acfa6",
   "metadata": {},
   "outputs": [],
   "source": [
    "pd.read_excel('filename.xlsx')\n",
    "# Function to read an Excel file"
   ]
  },
  {
   "cell_type": "markdown",
   "id": "b5dea4f9-b9fd-4d6f-824a-3b07fb20e3c9",
   "metadata": {},
   "source": [
    "# Solution 7"
   ]
  },
  {
   "cell_type": "code",
   "execution_count": 6,
   "id": "eabe63a3-4b44-4609-a8d0-919088d35a92",
   "metadata": {},
   "outputs": [
    {
     "name": "stdout",
     "output_type": "stream",
     "text": [
      "               Email Username\n",
      "0  alice@example.com    alice\n",
      "1   bob@workmail.org      bob\n",
      "2  charlie@gmail.com  charlie\n"
     ]
    }
   ],
   "source": [
    "# Create a sample DataFrame\n",
    "data = {\n",
    "    'Email': ['alice@example.com', 'bob@workmail.org', 'charlie@gmail.com']\n",
    "}\n",
    "df = pd.DataFrame(data)\n",
    "\n",
    "# Define your function\n",
    "def extract_usernames(df):\n",
    "    df['Username'] = df['Email'].apply(lambda x: x.split('@')[0])\n",
    "    return df\n",
    "\n",
    "# Apply the function\n",
    "updated_df = extract_usernames(df)\n",
    "\n",
    "# Display the updated DataFrame\n",
    "print(updated_df)"
   ]
  },
  {
   "cell_type": "markdown",
   "id": "9508a52d-9cbe-439a-8a88-f6f3f208c8c4",
   "metadata": {},
   "source": [
    "# Solution 8"
   ]
  },
  {
   "cell_type": "code",
   "execution_count": 7,
   "id": "589dcee0-bd3d-4730-a8f8-31d772b4f32c",
   "metadata": {},
   "outputs": [
    {
     "name": "stdout",
     "output_type": "stream",
     "text": [
      "    A  B\n",
      "1   6  8\n",
      "2   8  3\n",
      "4  10  5\n"
     ]
    }
   ],
   "source": [
    "# Create a sample DataFrame\n",
    "data = {\n",
    "    'A': [2, 6, 8, 4, 10],\n",
    "    'B': [9, 8, 3, 15, 5]\n",
    "}\n",
    "df = pd.DataFrame(data)\n",
    "\n",
    "# Define your function\n",
    "def select_rows(df):\n",
    "    return df[(df['A'] > 5) & (df['B'] < 10)]\n",
    "\n",
    "# Apply the function\n",
    "filtered_df = select_rows(df)\n",
    "\n",
    "# Display the filtered DataFrame\n",
    "print(filtered_df)"
   ]
  },
  {
   "cell_type": "markdown",
   "id": "46a17af4-0b42-498b-a5df-75b6e08eaed1",
   "metadata": {},
   "source": [
    "# Solution 9"
   ]
  },
  {
   "cell_type": "code",
   "execution_count": 8,
   "id": "2ebf473d-7666-4c3a-8e44-008448801740",
   "metadata": {},
   "outputs": [
    {
     "name": "stdout",
     "output_type": "stream",
     "text": [
      "Mean: 30.0, Median: 30.0, Std: 15.811388300841896\n"
     ]
    }
   ],
   "source": [
    "# Create a sample DataFrame\n",
    "data = {\n",
    "    'Values': [10, 20, 30, 40, 50]\n",
    "}\n",
    "df = pd.DataFrame(data)\n",
    "\n",
    "# Define your function\n",
    "def calculate_stats(df):\n",
    "    mean_val = df['Values'].mean()\n",
    "    median_val = df['Values'].median()\n",
    "    std_val = df['Values'].std()\n",
    "    print(f\"Mean: {mean_val}, Median: {median_val}, Std: {std_val}\")\n",
    "\n",
    "# Call the function\n",
    "calculate_stats(df)"
   ]
  },
  {
   "cell_type": "markdown",
   "id": "f648432e-14d7-4e1f-8c04-51a71768c4fb",
   "metadata": {},
   "source": [
    "# Solution 10"
   ]
  },
  {
   "cell_type": "code",
   "execution_count": 9,
   "id": "16d2d5ac-86b7-4ccb-9266-11d388860cc5",
   "metadata": {},
   "outputs": [
    {
     "name": "stdout",
     "output_type": "stream",
     "text": [
      "        Date  Sales  MovingAverage\n",
      "0 2023-04-01    100            NaN\n",
      "1 2023-04-02    120            NaN\n",
      "2 2023-04-03    150            NaN\n",
      "3 2023-04-04    130            NaN\n",
      "4 2023-04-05    170            NaN\n",
      "5 2023-04-06    200            NaN\n",
      "6 2023-04-07    210     154.285714\n",
      "7 2023-04-08    190     167.142857\n"
     ]
    }
   ],
   "source": [
    "# Create a sample DataFrame\n",
    "data = {\n",
    "    'Date': ['2023-04-01', '2023-04-02', '2023-04-03', '2023-04-04', \n",
    "             '2023-04-05', '2023-04-06', '2023-04-07', '2023-04-08'],\n",
    "    'Sales': [100, 120, 150, 130, 170, 200, 210, 190]\n",
    "}\n",
    "df = pd.DataFrame(data)\n",
    "\n",
    "# Define your function\n",
    "def add_moving_average(df):\n",
    "    df['Date'] = pd.to_datetime(df['Date'])\n",
    "    df = df.sort_values('Date')\n",
    "    df['MovingAverage'] = df['Sales'].rolling(window=7).mean()\n",
    "    return df\n",
    "\n",
    "# Apply the function\n",
    "updated_df = add_moving_average(df)\n",
    "\n",
    "# Display the updated DataFrame\n",
    "print(updated_df)"
   ]
  },
  {
   "cell_type": "markdown",
   "id": "d538fee0-7997-477d-a348-66a13061d828",
   "metadata": {},
   "source": [
    "# Solution 11"
   ]
  },
  {
   "cell_type": "code",
   "execution_count": 10,
   "id": "ce90698c-4846-429d-9b3d-c9fca6f06765",
   "metadata": {},
   "outputs": [
    {
     "name": "stdout",
     "output_type": "stream",
     "text": [
      "        Date    Weekday\n",
      "0 2023-04-01   Saturday\n",
      "1 2023-04-02     Sunday\n",
      "2 2023-04-03     Monday\n",
      "3 2023-04-04    Tuesday\n",
      "4 2023-04-05  Wednesday\n"
     ]
    }
   ],
   "source": [
    "# Create a sample DataFrame\n",
    "data = {\n",
    "    'Date': ['2023-04-01', '2023-04-02', '2023-04-03', '2023-04-04', '2023-04-05']\n",
    "}\n",
    "df = pd.DataFrame(data)\n",
    "\n",
    "# Define your function\n",
    "def add_weekday(df):\n",
    "    df['Date'] = pd.to_datetime(df['Date'])\n",
    "    df['Weekday'] = df['Date'].dt.day_name()\n",
    "    return df\n",
    "\n",
    "# Apply the function\n",
    "updated_df = add_weekday(df)\n",
    "\n",
    "# Display the updated DataFrame\n",
    "print(updated_df)"
   ]
  },
  {
   "cell_type": "markdown",
   "id": "71fdde8c-7cad-4af6-885b-245906563287",
   "metadata": {},
   "source": [
    "# Solution 12"
   ]
  },
  {
   "cell_type": "code",
   "execution_count": 11,
   "id": "f92207dc-5e4c-4744-9f7f-c9bd28aaaaef",
   "metadata": {},
   "outputs": [
    {
     "name": "stdout",
     "output_type": "stream",
     "text": [
      "        Date           Event\n",
      "0 2023-01-01        New Year\n",
      "1 2023-01-15     Mid-January\n",
      "3 2023-01-31  End of January\n"
     ]
    }
   ],
   "source": [
    "# Create a sample DataFrame\n",
    "data = {\n",
    "    'Date': ['2023-01-01', '2023-01-15', '2023-02-01', '2023-01-31', '2023-03-10'],\n",
    "    'Event': ['New Year', 'Mid-January', 'February Start', 'End of January', 'March Event']\n",
    "}\n",
    "df = pd.DataFrame(data)\n",
    "\n",
    "# Define your function\n",
    "def filter_january_dates(df):\n",
    "    df['Date'] = pd.to_datetime(df['Date'])\n",
    "    mask = (df['Date'] >= '2023-01-01') & (df['Date'] <= '2023-01-31')\n",
    "    return df[mask]\n",
    "\n",
    "# Apply the function\n",
    "filtered_df = filter_january_dates(df)\n",
    "\n",
    "# Display the filtered DataFrame\n",
    "print(filtered_df)"
   ]
  },
  {
   "cell_type": "code",
   "execution_count": null,
   "id": "623c87e2-fb4e-49c4-99c8-95af5944a4a1",
   "metadata": {},
   "outputs": [],
   "source": []
  }
 ],
 "metadata": {
  "kernelspec": {
   "display_name": "Python 3 (ipykernel)",
   "language": "python",
   "name": "python3"
  },
  "language_info": {
   "codemirror_mode": {
    "name": "ipython",
    "version": 3
   },
   "file_extension": ".py",
   "mimetype": "text/x-python",
   "name": "python",
   "nbconvert_exporter": "python",
   "pygments_lexer": "ipython3",
   "version": "3.13.2"
  }
 },
 "nbformat": 4,
 "nbformat_minor": 5
}
