{
 "cells": [
  {
   "cell_type": "markdown",
   "id": "ff3a4ebf-830f-43a6-a6be-f4b6473b286b",
   "metadata": {},
   "source": [
    "# Solution 1"
   ]
  },
  {
   "cell_type": "markdown",
   "id": "8599781e-d02f-46fa-8524-f8ef8b46d989",
   "metadata": {},
   "source": [
    "Definition of API\n",
    "API (Application Programming Interface) is a set of rules and protocols that allows different software applications to communicate with each other. It defines the methods and data formats that programs can use to request and exchange information.\n",
    "\n",
    "Real-Life Example of API Usage\n",
    "\n",
    " Google Maps API – Many applications like Uber, food delivery apps, and real \n",
    " estate websites use the Google Maps API to fetch location details and display \n",
    " maps within their applications.\n",
    "\n"
   ]
  },
  {
   "cell_type": "markdown",
   "id": "c748c0f8-3206-4b63-a409-a0181e9ab0a6",
   "metadata": {},
   "source": [
    "# Solution 2"
   ]
  },
  {
   "cell_type": "markdown",
   "id": "0341588f-5498-4a2d-996b-1443342de82c",
   "metadata": {},
   "source": [
    " Advantages:\n",
    " \n",
    "Efficiency – APIs enable seamless integration between different systems, reducing manual work.\n",
    "\n",
    "Automation – Tasks like data retrieval, payments, and authentication can be automated.\n",
    "\n",
    "Scalability – APIs allow applications to expand functionality without rewriting the entire system.\n",
    "\n",
    "Security – APIs provide controlled access to data, reducing security risks.\n",
    "\n",
    "Reusability – Developers can reuse APIs across multiple projects, saving time and effort.\n",
    "\n",
    "Disadvantages:\n",
    "\n",
    "Complexity – API implementation and maintenance require technical knowledge.\n",
    "\n",
    "Security Risks – Poorly designed APIs can expose sensitive data to security threats.\n",
    "\n",
    "Dependency on Third-Party Services – If an API provider experiences downtime, dependent applications may stop working.\n",
    "\n",
    "Versioning Issues – Frequent API updates may cause compatibility issues with older versions.\n",
    "\n"
   ]
  },
  {
   "cell_type": "markdown",
   "id": "36f882a5-17c2-4690-8228-bb9875a9522b",
   "metadata": {},
   "source": [
    "# Solution 3"
   ]
  },
  {
   "cell_type": "markdown",
   "id": "03596434-a26e-4f6c-8099-9702364f838c",
   "metadata": {},
   "source": [
    "A Web API (Application Programming Interface) is a set of protocols and tools that allow applications to communicate with each other over the internet using HTTP requests. It enables different software systems to exchange data and perform operations without requiring direct user interaction. Web APIs are commonly used in web development for tasks such as retrieving data from a server, integrating third-party services, and automating processes.\n",
    "\n",
    "For example, a weather application can use a Web API to fetch real-time weather data from a remote server and display it to users.\n",
    "\n",
    "Difference Between API and Web API\n",
    "An API (Application Programming Interface) is a general term that refers to any set of rules that allow different software applications to communicate with each other. APIs can be used for various purposes, such as operating system interactions, database access, and web services. APIs can be implemented in different ways, including libraries, frameworks, and web services.\n",
    "\n",
    "A Web API, on the other hand, specifically refers to APIs that operate over the internet using web protocols like HTTP. Unlike general APIs, which may work within a local environment or software application, Web APIs enable remote communication between systems, making them essential for cloud computing, web applications, and mobile apps.\n",
    "\n",
    "In summary, all Web APIs are APIs, but not all APIs are Web APIs. APIs can exist in various environments, while Web APIs are explicitly designed for communication over the web."
   ]
  },
  {
   "cell_type": "markdown",
   "id": "83949c0c-dd78-406a-9dba-b0dfaad3ab7f",
   "metadata": {},
   "source": [
    "# Solution 4"
   ]
  },
  {
   "cell_type": "markdown",
   "id": "b7423209-a1a3-4513-bb50-113f2db07d00",
   "metadata": {},
   "source": [
    "REST (Representational State Transfer):\n",
    "\n",
    "1)REST is an architectural style for designing web services based on standard HTTP methods (GET, POST, PUT, DELETE).\n",
    "\n",
    "2)Uses stateless communication (no session is stored on the server).\n",
    "\n",
    "3)Supports multiple data formats (JSON, XML).\n",
    "\n",
    "4)Preferred for web and mobile applications due to simplicity.\n",
    "\n",
    "SOAP (Simple Object Access Protocol):\n",
    "\n",
    "1)SOAP is a protocol for exchanging structured information in web services \n",
    " using XML.\n",
    "\n",
    "2)Uses stateful communication (session tracking is possible).\n",
    "\n",
    "3)More secure and reliable, often used in banking and enterprise applications.\n",
    "\n",
    "4)Uses XML format only, making it heavier than REST.\n",
    "\n",
    "Shortcomings of SOAP: \n",
    "\n",
    "1)More Complex – Requires extensive XML formatting.\n",
    "\n",
    "2)Slower Performance – More overhead due to XML and envelope structure.\n",
    "\n",
    "3)Less Flexibility – Cannot handle different data formats like REST.\n",
    "\n",
    "4)Higher Bandwidth Usage – Requires more resources for data transfer.\n",
    "\n"
   ]
  },
  {
   "cell_type": "markdown",
   "id": "48b01374-80ac-4785-b25a-e44cd63630a2",
   "metadata": {},
   "source": [
    "# Solution 5"
   ]
  },
  {
   "cell_type": "markdown",
   "id": "f40b48a5-9ba4-43b3-acc8-299e93f3f956",
   "metadata": {},
   "source": [
    "REST and SOAP are two different approaches to web services. REST is an architectural style that provides flexibility, allowing applications to communicate over HTTP using various data formats such as JSON and XML. It is stateless, meaning each request is independent, making it lightweight and efficient for web and mobile applications. REST is widely used due to its simplicity, ease of integration, and fast performance.\n",
    "\n",
    "On the other hand, SOAP is a protocol that uses XML messaging to exchange structured data between systems. Unlike REST, SOAP is stateful, meaning it can maintain session information. It is more secure because it supports WS-Security, making it a preferred choice for enterprise applications such as banking and payment processing. However, SOAP is more complex, requires more bandwidth due to its XML-based structure, and has slower performance compared to REST.\n",
    "\n",
    "REST is ideal for lightweight, flexible applications such as web and mobile services, while SOAP is preferred for mission-critical applications that require high security and transaction reliability."
   ]
  },
  {
   "cell_type": "code",
   "execution_count": null,
   "id": "083e2275-7626-4c42-bb62-4b144c45bf48",
   "metadata": {},
   "outputs": [],
   "source": []
  }
 ],
 "metadata": {
  "kernelspec": {
   "display_name": "Python 3 (ipykernel)",
   "language": "python",
   "name": "python3"
  },
  "language_info": {
   "codemirror_mode": {
    "name": "ipython",
    "version": 3
   },
   "file_extension": ".py",
   "mimetype": "text/x-python",
   "name": "python",
   "nbconvert_exporter": "python",
   "pygments_lexer": "ipython3",
   "version": "3.13.2"
  }
 },
 "nbformat": 4,
 "nbformat_minor": 5
}
