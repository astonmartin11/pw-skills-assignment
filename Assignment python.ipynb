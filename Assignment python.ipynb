{
 "cells": [
  {
   "cell_type": "markdown",
   "id": "727b2f5b-2226-463b-8bd6-2ed5cb5f0aef",
   "metadata": {},
   "source": [
    "# Solution No. 1"
   ]
  },
  {
   "cell_type": "code",
   "execution_count": 9,
   "id": "c2286969-f5ff-4e5a-9744-1069f074a266",
   "metadata": {},
   "outputs": [
    {
     "name": "stdout",
     "output_type": "stream",
     "text": [
      "[('Virat Kohli', 24936), ('Jack Kallis', 25534), ('Ricky Ponting', 27483), ('Sachin Tendulkar', 34357)]\n"
     ]
    }
   ],
   "source": [
    "l=[('Sachin Tendulkar', 34357), ('Ricky Ponting', 27483), ('Jack Kallis', 25534), ('Virat Kohli', 24936)]\n",
    "sorted_players=sorted(l,key=lambda x:x[1])\n",
    "print(sorted_players)"
   ]
  },
  {
   "cell_type": "markdown",
   "id": "c8831e59-dc42-4552-a25b-660569e2ee8b",
   "metadata": {},
   "source": [
    " # Solution No. 2"
   ]
  },
  {
   "cell_type": "code",
   "execution_count": 7,
   "id": "8d82c1a9-7f41-409a-9bb0-7cfda81cba49",
   "metadata": {},
   "outputs": [
    {
     "data": {
      "text/plain": [
       "[1, 4, 9, 16, 25, 36, 49, 64, 81, 100]"
      ]
     },
     "execution_count": 7,
     "metadata": {},
     "output_type": "execute_result"
    }
   ],
   "source": [
    "l1=[1,2,3,4,5,6,7,8,9,10]\n",
    "list(map(lambda x:x**2,l1))"
   ]
  },
  {
   "cell_type": "markdown",
   "id": "00e57689-afda-4eeb-9672-dd73445d4f9b",
   "metadata": {},
   "source": [
    "# Solution No. 3"
   ]
  },
  {
   "cell_type": "code",
   "execution_count": 17,
   "id": "621dd98d-e5ae-413b-9ed7-b85becf66ae4",
   "metadata": {},
   "outputs": [
    {
     "data": {
      "text/plain": [
       "('1', '2', '3', '4', '5', '6', '7', '8', '9', '10')"
      ]
     },
     "execution_count": 17,
     "metadata": {},
     "output_type": "execute_result"
    }
   ],
   "source": [
    "s= [1, 2, 3, 4, 5, 6, 7, 8, 9, 10]\n",
    "tuple(map(lambda x:str(x),s))"
   ]
  },
  {
   "cell_type": "markdown",
   "id": "0a88e9c0-74f2-4204-9f5a-a1cc3b8d9007",
   "metadata": {},
   "source": [
    "# Solution No. 4"
   ]
  },
  {
   "cell_type": "code",
   "execution_count": 19,
   "id": "59d34be8-8fdf-4c1f-91e0-07bbafa51ea0",
   "metadata": {},
   "outputs": [
    {
     "data": {
      "text/plain": [
       "15511210043330985984000000"
      ]
     },
     "execution_count": 19,
     "metadata": {},
     "output_type": "execute_result"
    }
   ],
   "source": [
    "from functools import reduce\n",
    "l=list(range(1,26))\n",
    "reduce(lambda x,y:x*y,l)"
   ]
  },
  {
   "cell_type": "markdown",
   "id": "29e55511-667b-4ce5-9af4-596660b16a52",
   "metadata": {},
   "source": [
    "# Solution No. 5"
   ]
  },
  {
   "cell_type": "code",
   "execution_count": 21,
   "id": "80568217-5f08-4b7b-bf53-361e3b6b6b39",
   "metadata": {},
   "outputs": [
    {
     "data": {
      "text/plain": [
       "[6, 60, 90, 120]"
      ]
     },
     "execution_count": 21,
     "metadata": {},
     "output_type": "execute_result"
    }
   ],
   "source": [
    "c=[2, 3, 6, 9, 27, 60, 90, 120, 55, 46]\n",
    "list(filter(lambda x:x%2==0 and x%3==0,c))"
   ]
  },
  {
   "cell_type": "markdown",
   "id": "de67ac09-6044-440b-9a2f-3f4168dcd20f",
   "metadata": {},
   "source": [
    "# Solution No.6"
   ]
  },
  {
   "cell_type": "code",
   "execution_count": 25,
   "id": "501ca302-78ce-474a-9a85-892944f7ca0f",
   "metadata": {},
   "outputs": [
    {
     "data": {
      "text/plain": [
       "['php', 'aba', 'radar', 'level']"
      ]
     },
     "execution_count": 25,
     "metadata": {},
     "output_type": "execute_result"
    }
   ],
   "source": [
    "l=['python', 'php', 'aba', 'radar', 'level']\n",
    "list(filter(lambda x:x==x[::-1],l))"
   ]
  },
  {
   "cell_type": "code",
   "execution_count": null,
   "id": "d0cc7592-132c-4608-b74e-1a2a581a1a51",
   "metadata": {},
   "outputs": [],
   "source": []
  }
 ],
 "metadata": {
  "kernelspec": {
   "display_name": "Python 3 (ipykernel)",
   "language": "python",
   "name": "python3"
  },
  "language_info": {
   "codemirror_mode": {
    "name": "ipython",
    "version": 3
   },
   "file_extension": ".py",
   "mimetype": "text/x-python",
   "name": "python",
   "nbconvert_exporter": "python",
   "pygments_lexer": "ipython3",
   "version": "3.12.6"
  }
 },
 "nbformat": 4,
 "nbformat_minor": 5
}
