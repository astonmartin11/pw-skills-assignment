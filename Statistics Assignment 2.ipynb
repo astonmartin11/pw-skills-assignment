{
 "cells": [
  {
   "cell_type": "markdown",
   "id": "ce7ab170-0899-4a0f-8271-77125fbe7a1b",
   "metadata": {},
   "source": [
    "# Solution 1"
   ]
  },
  {
   "cell_type": "markdown",
   "id": "829ef167-6f4a-4f4d-b414-225f6f8e0d3b",
   "metadata": {},
   "source": [
    "The three primary measures of central tendency are:\n",
    "\n",
    "    Mean – The average of all values.\n",
    "\n",
    "    Median – The middle value when data is arranged in order.\n",
    "\n",
    "    Mode – The value that occurs most frequently."
   ]
  },
  {
   "cell_type": "markdown",
   "id": "6c7c616a-2bcd-4e46-b8ee-4164c684677f",
   "metadata": {},
   "source": [
    "# Solution 2"
   ]
  },
  {
   "cell_type": "markdown",
   "id": "ce81f9bb-4261-45be-aaf3-8857b26d4a54",
   "metadata": {},
   "source": [
    "Mean: Average of all values. Affected by outliers.\n",
    "\n",
    "Median: Middle value when data is sorted. Not affected by outliers.\n",
    "\n",
    "Mode: Most frequent value. Useful for categorical data."
   ]
  },
  {
   "cell_type": "markdown",
   "id": "3ea25202-2f47-41e7-8ad0-d49f9e608b2f",
   "metadata": {},
   "source": [
    "# Solution 3"
   ]
  },
  {
   "cell_type": "code",
   "execution_count": 3,
   "id": "6bd7a667-e156-408b-b092-bfb5d24d8a29",
   "metadata": {},
   "outputs": [
    {
     "data": {
      "text/plain": [
       "(np.float64(177.01875), np.float64(177.0), 178)"
      ]
     },
     "execution_count": 3,
     "metadata": {},
     "output_type": "execute_result"
    }
   ],
   "source": [
    "import numpy as np\n",
    "from statistics import mode\n",
    "\n",
    "data = [178,177,176,177,178.2,178,175,179,180,175,178.9,176.2,177,172.5,178,176.5]\n",
    "\n",
    "mean = np.mean(data)\n",
    "median = np.median(data)\n",
    "mode_val = mode(data)\n",
    "\n",
    "(mean, median, mode_val)"
   ]
  },
  {
   "cell_type": "markdown",
   "id": "ad84ebe4-1e3f-4f15-9659-3adaf0f22aac",
   "metadata": {},
   "source": [
    "# Solution 4"
   ]
  },
  {
   "cell_type": "code",
   "execution_count": 2,
   "id": "bd77d89f-1546-473b-8a80-6ff4d22838e1",
   "metadata": {},
   "outputs": [
    {
     "data": {
      "text/plain": [
       "np.float64(1.7885814036548633)"
      ]
     },
     "execution_count": 2,
     "metadata": {},
     "output_type": "execute_result"
    }
   ],
   "source": [
    "std_dev = np.std(data, ddof=0)  # Population standard deviation\n",
    "std_dev"
   ]
  },
  {
   "cell_type": "markdown",
   "id": "58642680-d818-46ef-b811-cea9303849bc",
   "metadata": {},
   "source": [
    "# Solution 5"
   ]
  },
  {
   "cell_type": "markdown",
   "id": "ba619734-8d67-4834-a5a0-95c1b4236fa0",
   "metadata": {},
   "source": [
    "Range: Difference between max and min value; shows total spread.\n",
    "\n",
    "Variance: Average of squared differences from the mean; gives overall variability.\n",
    "\n",
    "Standard Deviation: Square root of variance; more interpretable in original units."
   ]
  },
  {
   "cell_type": "markdown",
   "id": "6f3e6535-1b61-43e2-8e06-56b8b9ad1f1b",
   "metadata": {},
   "source": [
    "# Solution 6"
   ]
  },
  {
   "cell_type": "markdown",
   "id": "c55a71a2-5db1-4130-9243-a9d59e653f8e",
   "metadata": {},
   "source": [
    "A Venn diagram is a visual representation of the relationships between different sets. It uses overlapping circles to show common and distinct elements."
   ]
  },
  {
   "cell_type": "markdown",
   "id": "7f93851e-8cc0-49e1-af98-1b493a144881",
   "metadata": {},
   "source": [
    "# Solution 7"
   ]
  },
  {
   "cell_type": "markdown",
   "id": "d7ebac25-b2ab-4d67-a3aa-a5d1396033b6",
   "metadata": {},
   "source": [
    "(i) A ∩ B (Intersection): {2, 6}\n",
    "\n",
    "(ii) A ⋃ B (Union): {0, 2, 3, 4, 5, 6, 7, 8, 10}"
   ]
  },
  {
   "cell_type": "markdown",
   "id": "90273965-d4ef-49c3-95a5-2840f5caa1d2",
   "metadata": {},
   "source": [
    "# Solution 8"
   ]
  },
  {
   "cell_type": "markdown",
   "id": "ad77d269-2ce5-4797-aaa3-490f39b62d49",
   "metadata": {},
   "source": [
    "Skewness describes the asymmetry of a distribution:\n",
    "\n",
    "    Positive Skew (Right): Tail on the right; mean > median\n",
    "\n",
    "    Negative Skew (Left): Tail on the left; mean < median\n",
    "\n",
    "    Symmetrical: Mean = Median = Mode"
   ]
  },
  {
   "cell_type": "markdown",
   "id": "f6d98782-5a08-4dfd-9f64-216632454d34",
   "metadata": {},
   "source": [
    "# Solution 9"
   ]
  },
  {
   "cell_type": "markdown",
   "id": "fa3974b7-24aa-48b8-8279-984ca2993224",
   "metadata": {},
   "source": [
    "In right-skewed data: Mean > Median > Mode"
   ]
  },
  {
   "cell_type": "markdown",
   "id": "5da5ab8d-03aa-4329-9ae0-19bbe88572e7",
   "metadata": {},
   "source": [
    "# Solution 10"
   ]
  },
  {
   "cell_type": "markdown",
   "id": "6cb50c91-7582-4d9d-b271-09be04ef1aab",
   "metadata": {},
   "source": [
    "Covariance: Shows direction of relationship (positive/negative). Units dependent.\n",
    "\n",
    "Correlation: Standardized measure of both direction and strength. Ranges from -1 to +1. Unitless.\n",
    "\n",
    "Use: Correlation is preferred for comparing relationships across datasets."
   ]
  },
  {
   "cell_type": "markdown",
   "id": "9252a40a-54d2-4e48-94d7-59d4473006ab",
   "metadata": {},
   "source": [
    "# Solution 11"
   ]
  },
  {
   "cell_type": "code",
   "execution_count": 7,
   "id": "5003e142-0908-4e49-8400-6f0ecb5db0bd",
   "metadata": {},
   "outputs": [
    {
     "name": "stdout",
     "output_type": "stream",
     "text": [
      "Sample Mean: 5.2\n"
     ]
    }
   ],
   "source": [
    "import numpy as np\n",
    "\n",
    "# Sample data\n",
    "data = [4, 8, 6, 5, 3]\n",
    "\n",
    "# Calculate sample mean\n",
    "sample_mean = np.mean(data)\n",
    "\n",
    "# Display result\n",
    "print(\"Sample Mean:\", sample_mean)"
   ]
  },
  {
   "cell_type": "markdown",
   "id": "54b8b23c-20f9-47cd-aa6e-40fbee99002b",
   "metadata": {},
   "source": [
    "# Solution 12"
   ]
  },
  {
   "cell_type": "markdown",
   "id": "9c359c46-9a1b-485b-b3fd-52af3a096e5a",
   "metadata": {},
   "source": [
    "In a normal distribution : Mean=Median=Mode"
   ]
  },
  {
   "cell_type": "markdown",
   "id": "70395fc7-6007-47a4-a7e6-2eaf1f20ddfb",
   "metadata": {},
   "source": [
    "# Solution 13"
   ]
  },
  {
   "cell_type": "markdown",
   "id": "85341de0-51f7-438c-8012-90041fbcaf41",
   "metadata": {},
   "source": [
    "Covariance shows direction\n",
    "\n",
    "Correlation shows direction + strength, scaled between -1 and 1."
   ]
  },
  {
   "cell_type": "markdown",
   "id": "127162c5-f80d-400d-8dee-3f6c8a80c059",
   "metadata": {},
   "source": [
    "# Solution 14"
   ]
  },
  {
   "cell_type": "markdown",
   "id": "8bb70b1b-cb82-4e84-9a1e-d24a29683347",
   "metadata": {},
   "source": [
    "Mean: Highly affected by outliers\n",
    "\n",
    "Median: Not significantly affected\n",
    "\n",
    "Mode: Rarely affected\n",
    "\n",
    "Standard Deviation/Variance: Increases significantly due to large squared differences\n",
    "\n",
    "Example:\n",
    "Data: [1, 2, 3, 4, 100]\n",
    "\n",
    "Mean: 22\n",
    "\n",
    "Median: 3\n",
    "=> Outlier (100) skews the mean drastically"
   ]
  },
  {
   "cell_type": "code",
   "execution_count": null,
   "id": "dffac3b0-d8d4-44fd-8010-915ed4d75d91",
   "metadata": {},
   "outputs": [],
   "source": []
  }
 ],
 "metadata": {
  "kernelspec": {
   "display_name": "Python 3 (ipykernel)",
   "language": "python",
   "name": "python3"
  },
  "language_info": {
   "codemirror_mode": {
    "name": "ipython",
    "version": 3
   },
   "file_extension": ".py",
   "mimetype": "text/x-python",
   "name": "python",
   "nbconvert_exporter": "python",
   "pygments_lexer": "ipython3",
   "version": "3.13.2"
  }
 },
 "nbformat": 4,
 "nbformat_minor": 5
}
