{
 "cells": [
  {
   "cell_type": "markdown",
   "id": "1d855a9d-d64c-407a-bd37-fe3cb6554ecb",
   "metadata": {},
   "source": [
    "# Solution 1"
   ]
  },
  {
   "cell_type": "markdown",
   "id": "1b41dc1b-6f25-41cc-8250-467f2d1ff621",
   "metadata": {},
   "source": [
    "A Probability Density Function (PDF) is a function that describes the likelihood of a continuous random variable taking on a particular value. The area under the PDF curve between two values represents the probability that the variable falls within that interval. For a valid PDF:\n",
    "\n",
    "f(x)≥0 for all\n",
    "x\n",
    "\n",
    "∫ \n",
    "−∞\n",
    "∞\n",
    "​\n",
    " f(x)dx=1\n",
    "\n"
   ]
  },
  {
   "cell_type": "markdown",
   "id": "30f99498-1cd3-490d-8d11-45e20afc2f2d",
   "metadata": {},
   "source": [
    "# Solution 2"
   ]
  },
  {
   "cell_type": "markdown",
   "id": "0b3236f5-8e67-4761-8947-9c20c3e10349",
   "metadata": {},
   "source": [
    "There are two main types:\n",
    "\n",
    "Discrete Probability Distributions (for discrete random variables)\n",
    "\n",
    "    Binomial Distribution\n",
    "\n",
    "    Poisson Distribution\n",
    "\n",
    "    Geometric Distribution\n",
    "\n",
    "Continuous Probability Distributions (for continuous random variables)\n",
    "\n",
    "    Normal Distribution\n",
    "\n",
    "    Exponential Distribution\n",
    "\n",
    "    Uniform Distribution"
   ]
  },
  {
   "cell_type": "markdown",
   "id": "332d4a90-8e53-4941-b945-083f5ef9bc54",
   "metadata": {},
   "source": [
    "# Solution 3"
   ]
  },
  {
   "cell_type": "code",
   "execution_count": 3,
   "id": "e51dad1b-1e66-4193-af41-9e5bf6acf792",
   "metadata": {},
   "outputs": [
    {
     "name": "stdout",
     "output_type": "stream",
     "text": [
      "0.05399096651318806\n"
     ]
    }
   ],
   "source": [
    "import math\n",
    "\n",
    "def normal_pdf(x, mean, std_dev):\n",
    "    exponent = math.exp(-((x - mean) ** 2) / (2 * std_dev ** 2))\n",
    "    return (1 / (std_dev * math.sqrt(2 * math.pi))) * exponent\n",
    "\n",
    "# Example usage:\n",
    "print(normal_pdf(2, mean=0, std_dev=1))  # PDF at x = 2 for N(0,1)"
   ]
  },
  {
   "cell_type": "markdown",
   "id": "93bbcf9c-c9fb-4786-a8ef-32e596ed01af",
   "metadata": {},
   "source": [
    "# Solution 4"
   ]
  },
  {
   "cell_type": "markdown",
   "id": "bf5f5497-43d6-4209-a9db-00565f005737",
   "metadata": {},
   "source": [
    "Properties:\n",
    "\n",
    "    Fixed number of trials (n).\n",
    "\n",
    "    Each trial has two outcomes: Success or Failure.\n",
    "\n",
    "    Constant probability of success (p).\n",
    "\n",
    "    Trials are independent.\n",
    "\n",
    "Mean = \n",
    "𝜇\n",
    "=\n",
    "μ=np\n",
    "\n",
    "Variance = \n",
    "𝜎\n",
    "2\n",
    "=\n",
    "σ \n",
    "2\n",
    " =np(1−p)\n",
    "\n",
    "Examples:\n",
    "\n",
    "Tossing a coin 10 times and counting the number of heads.\n",
    "\n",
    "Quality control: Checking 20 products for defects (defective or non-defective)."
   ]
  },
  {
   "cell_type": "markdown",
   "id": "a4ebaddd-6af7-4d7e-a64e-473d066af6c1",
   "metadata": {},
   "source": [
    "# Solution 5"
   ]
  },
  {
   "cell_type": "code",
   "execution_count": 4,
   "id": "a4c71863-d15a-4fc1-96e3-b3f937971f26",
   "metadata": {},
   "outputs": [
    {
     "data": {
      "image/png": "[encoded data removed]",
      "text/plain": [
       "<Figure size 640x480 with 1 Axes>"
      ]
     },
     "metadata": {},
     "output_type": "display_data"
    }
   ],
   "source": [
    "import numpy as np\n",
    "import matplotlib.pyplot as plt\n",
    "\n",
    "# Generate sample\n",
    "sample = np.random.binomial(n=10, p=0.4, size=1000)\n",
    "\n",
    "# Plot histogram\n",
    "plt.hist(sample, bins=range(0, 12), edgecolor='black', align='left')\n",
    "plt.title('Histogram of Binomial Distribution (n=10, p=0.4)')\n",
    "plt.xlabel('Number of Successes')\n",
    "plt.ylabel('Frequency')\n",
    "plt.show()"
   ]
  },
  {
   "cell_type": "markdown",
   "id": "9ff90a8f-191b-4c46-922e-906806780dac",
   "metadata": {},
   "source": [
    "# Solution 6"
   ]
  },
  {
   "cell_type": "code",
   "execution_count": 5,
   "id": "1c7e4dce-2358-40e2-a11e-8b7a3d880543",
   "metadata": {},
   "outputs": [
    {
     "name": "stdout",
     "output_type": "stream",
     "text": [
      "0.8571234604985472\n"
     ]
    }
   ],
   "source": [
    "import math\n",
    "\n",
    "def poisson_cdf(k, lam):\n",
    "    cdf = 0.0\n",
    "    for i in range(0, k + 1):\n",
    "        cdf += (lam ** i) * math.exp(-lam) / math.factorial(i)\n",
    "    return cdf\n",
    "\n",
    "# Example usage:\n",
    "print(poisson_cdf(3, lam=2))  # CDF at x=3 with mean=2"
   ]
  },
  {
   "cell_type": "markdown",
   "id": "dd95b9f1-cd7c-490c-bceb-e4643e574fc3",
   "metadata": {},
   "source": [
    "# Solution 7"
   ]
  },
  {
   "cell_type": "markdown",
   "id": "c51d3589-0eb1-41b1-9ffc-3fcc1c6a1c20",
   "metadata": {},
   "source": [
    "Binomial distribution is used for a fixed number of trials; Poisson distribution is used for events over a continuous interval.\n",
    "\n",
    "Binomial has a constant probability of success in each trial; Poisson uses an average rate of occurrence (λ).\n",
    "\n",
    "Binomial models the number of successes in independent Bernoulli trials; Poisson models the number of occurrences of events in a fixed time or space.\n",
    "\n",
    "Binomial has two parameters: number of trials (n) and probability of success (p); Poisson has one parameter: mean rate of occurrence (λ).\n",
    "\n",
    "Mean of Binomial = np\n",
    "\n",
    "Mean of Poisson = 𝜆\n",
    "\n",
    "Variance of Binomial = np(1−p)\n",
    "\n",
    "Variance of Poisson = 𝜆\n",
    "\n",
    "\n",
    "Binomial is suitable for repeated, independent events with fixed outcomes; Poisson is suitable for rare or random events over time or space.\n",
    "\n",
    "Example of Binomial: Number of heads in 10 coin tosses.\n",
    "\n",
    "Example of Poisson: Number of emails received in an hour.\n",
    "\n"
   ]
  },
  {
   "cell_type": "markdown",
   "id": "c7d50b6b-d170-49ee-8236-f95e556d41f9",
   "metadata": {},
   "source": [
    "# Solution 8"
   ]
  },
  {
   "cell_type": "code",
   "execution_count": 6,
   "id": "8538e881-bc57-47f3-85d3-88b40aa6859b",
   "metadata": {},
   "outputs": [
    {
     "name": "stdout",
     "output_type": "stream",
     "text": [
      "Sample Mean: 5.051\n",
      "Sample Variance: 4.826399\n"
     ]
    }
   ],
   "source": [
    "# Generate sample\n",
    "poisson_sample = np.random.poisson(lam=5, size=1000)\n",
    "\n",
    "# Calculate mean and variance\n",
    "sample_mean = np.mean(poisson_sample)\n",
    "sample_variance = np.var(poisson_sample)\n",
    "\n",
    "print(\"Sample Mean:\", sample_mean)\n",
    "print(\"Sample Variance:\", sample_variance)"
   ]
  },
  {
   "cell_type": "markdown",
   "id": "8f812870-65bc-46b3-9a10-c613db37549c",
   "metadata": {},
   "source": [
    "# Solution 9"
   ]
  },
  {
   "cell_type": "markdown",
   "id": "3ff44498-71bc-4ba5-b7dd-35de7d43c9c8",
   "metadata": {},
   "source": [
    "Binomial:\n",
    "\n",
    "    Mean=μ=np\n",
    "    Variance=(sigma)^2=np(1−p)\n",
    "\n",
    "Poisson:\n",
    "\n",
    "    Mean =𝜆\n",
    "\n",
    "    Variance = 𝜆\n",
    "\n",
    "(So, in Poisson distribution, mean and variance are equal)"
   ]
  },
  {
   "cell_type": "markdown",
   "id": "809ac132-3c32-4f68-b725-e26dd2e1c45f",
   "metadata": {},
   "source": [
    "# Solution 10"
   ]
  },
  {
   "cell_type": "markdown",
   "id": "ca1dec25-4f73-4d5d-8b22-65bdee1737ad",
   "metadata": {},
   "source": [
    "In a normal distribution, the least frequent data appears in the tails, farthest from the mean. These are the extreme values, more than 2 or 3 standard deviations away from the mean."
   ]
  },
  {
   "cell_type": "code",
   "execution_count": null,
   "id": "08095659-6ba3-4ff8-bfb9-f9feee5a834d",
   "metadata": {},
   "outputs": [],
   "source": []
  }
 ],
 "metadata": {
  "kernelspec": {
   "display_name": "Python 3 (ipykernel)",
   "language": "python",
   "name": "python3"
  },
  "language_info": {
   "codemirror_mode": {
    "name": "ipython",
    "version": 3
   },
   "file_extension": ".py",
   "mimetype": "text/x-python",
   "name": "python",
   "nbconvert_exporter": "python",
   "pygments_lexer": "ipython3",
   "version": "3.13.2"
  }
 },
 "nbformat": 4,
 "nbformat_minor": 5
}
