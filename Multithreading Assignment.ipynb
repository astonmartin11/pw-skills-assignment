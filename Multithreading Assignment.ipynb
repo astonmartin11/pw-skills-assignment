{
 "cells": [
  {
   "cell_type": "markdown",
   "id": "1f5a0364-c139-4252-b794-4a1c5ea4151c",
   "metadata": {},
   "source": [
    "# Solution 1"
   ]
  },
  {
   "cell_type": "markdown",
   "id": "e6921a66-580b-4c9b-88d2-cb54cf4940ca",
   "metadata": {},
   "source": [
    "Multithreading is a technique in Python where multiple threads (smaller units of a process) run concurrently, allowing for parallel execution of tasks. It is mainly used to improve the performance of I/O-bound tasks like reading/writing files, network communication, etc.\n",
    "\n",
    "*Why it is used:\n",
    "\n",
    "  *To perform multiple tasks simultaneously.\n",
    "\n",
    "   *To make programs more responsive.\n",
    "\n",
    "   *To utilize CPU more efficiently (especially for I/O-bound tasks).\n",
    "\n",
    "*Module used: 'threading' module is used to handle threads in Python."
   ]
  },
  {
   "cell_type": "markdown",
   "id": "e0672ea7-0fab-4808-88fb-e3a9ca8230ff",
   "metadata": {},
   "source": [
    "# Solution 2"
   ]
  },
  {
   "cell_type": "markdown",
   "id": "b37d9902-a567-4983-bcd5-317b882c3b7d",
   "metadata": {},
   "source": [
    "The threading module is used to create and manage threads easily in Python. It provides a higher-level interface to work with threads compared to the low-level _thread module.\n",
    "\n",
    " *threading.activeCount()\n",
    "  Returns the number of thread objects currently alive.\n",
    "\n",
    " *threading.currentThread()\n",
    "  Returns the thread object corresponding to the caller's thread.\n",
    "\n",
    " *threading.enumerate()\n",
    "  Returns a list of all thread objects currently alive.\n",
    "\n"
   ]
  },
  {
   "cell_type": "markdown",
   "id": "f4db78b9-0219-47b7-ba00-af36365d180f",
   "metadata": {},
   "source": [
    "# Solution 3"
   ]
  },
  {
   "cell_type": "markdown",
   "id": "aae14ea1-c631-4144-aa8b-42d233bb28a6",
   "metadata": {},
   "source": [
    "*run():\n",
    "  Defines the thread's activity. It is overridden when you subclass Thread.\n",
    "\n",
    "*start():\n",
    "  Starts the thread's activity by calling run() in a new thread.\n",
    "\n",
    "*join():\n",
    "  Waits for the thread to finish. Blocks the calling thread until the thread \n",
    "  whose join() is called terminates.\n",
    "\n",
    "*isAlive():(Deprecated in Python 3.9, use is_alive() instead)\n",
    "  Returns whether the thread is still executing.\n",
    "\n"
   ]
  },
  {
   "cell_type": "markdown",
   "id": "65262b66-8d8a-411b-b4b8-6afffd3c903d",
   "metadata": {},
   "source": [
    "# Solution 4"
   ]
  },
  {
   "cell_type": "code",
   "execution_count": 1,
   "id": "a4323c85-3401-486c-bd03-aa4c378b5aa3",
   "metadata": {},
   "outputs": [
    {
     "name": "stdout",
     "output_type": "stream",
     "text": [
      "Square of 1: 1\n",
      "Square of 2: 4\n",
      "Square of 3: 9\n",
      "Square of 4: 16\n",
      "Square of 5: 25\n",
      "Cube of 1: 1\n",
      "Cube of 2: 8\n",
      "Cube of 3: 27\n",
      "Cube of 4: 64\n",
      "Cube of 5: 125\n",
      "Done with both threads.\n"
     ]
    }
   ],
   "source": [
    "import threading\n",
    "\n",
    "def print_squares():\n",
    "    for i in range(1, 6):\n",
    "        print(f\"Square of {i}: {i * i}\")\n",
    "\n",
    "def print_cubes():\n",
    "    for i in range(1, 6):\n",
    "        print(f\"Cube of {i}: {i * i * i}\")\n",
    "\n",
    "# Creating threads\n",
    "t1 = threading.Thread(target=print_squares)\n",
    "t2 = threading.Thread(target=print_cubes)\n",
    "\n",
    "# Starting threads\n",
    "t1.start()\n",
    "t2.start()\n",
    "\n",
    "# Waiting for both threads to finish\n",
    "t1.join()\n",
    "t2.join()\n",
    "\n",
    "print(\"Done with both threads.\")\n"
   ]
  },
  {
   "cell_type": "markdown",
   "id": "62be84bd-fd0c-4737-8984-31949087b393",
   "metadata": {},
   "source": [
    "# Solution 5"
   ]
  },
  {
   "cell_type": "markdown",
   "id": "d4a5bf9e-002e-4d1f-bfff-f7e09545188a",
   "metadata": {},
   "source": [
    "Advantages:\n",
    "\n",
    " 1)Efficient use of CPU for I/O-bound tasks.\n",
    "\n",
    " 2)Improves application responsiveness.\n",
    "\n",
    " 3)Tasks appear to run concurrently.\n",
    "\n",
    " 4)Simplifies program structure for some problems.\n",
    "\n",
    "Disadvantages:\n",
    "\n",
    " 1)Difficult to debug and test.\n",
    "\n",
    " 2)Race conditions can occur if not handled properly.\n",
    "\n",
    " 3)Deadlocks can freeze programs.\n",
    "\n",
    " 4)Not effective for CPU-bound tasks due to Global Interpreter Lock (GIL) in CPython.\n",
    "\n"
   ]
  },
  {
   "cell_type": "markdown",
   "id": "b7f37ef8-d723-4df4-8b64-0e154a78258b",
   "metadata": {},
   "source": [
    "# Solution 6"
   ]
  },
  {
   "cell_type": "markdown",
   "id": "181b310e-365e-4933-a642-483c65c35c05",
   "metadata": {},
   "source": [
    "*)Deadlock:\n",
    "  A situation where two or more threads are blocked forever, each waiting for the other to release a resource.\n",
    "  Example: Thread A holds resource 1 and waits for resource 2, while Thread B holds resource 2 and waits for resource 1.\n",
    "\n",
    "*)Race Condition:\n",
    "  Occurs when multiple threads access shared data and try to modify it at the same time. The final outcome depends on the timing of the threads, which leads to unpredictable behavior.\n",
    "  Example: Two threads updating the same variable without synchronization.\n",
    "\n"
   ]
  },
  {
   "cell_type": "code",
   "execution_count": null,
   "id": "e6d6f95a-3615-4c18-a706-bdfad8c1862e",
   "metadata": {},
   "outputs": [],
   "source": []
  }
 ],
 "metadata": {
  "kernelspec": {
   "display_name": "Python 3 (ipykernel)",
   "language": "python",
   "name": "python3"
  },
  "language_info": {
   "codemirror_mode": {
    "name": "ipython",
    "version": 3
   },
   "file_extension": ".py",
   "mimetype": "text/x-python",
   "name": "python",
   "nbconvert_exporter": "python",
   "pygments_lexer": "ipython3",
   "version": "3.13.2"
  }
 },
 "nbformat": 4,
 "nbformat_minor": 5
}
