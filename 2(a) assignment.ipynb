{
 "cells": [
  {
   "cell_type": "markdown",
   "id": "ebee037e-213e-4468-ac57-e726fe4928c1",
   "metadata": {},
   "source": [
    "# solution 1"
   ]
  },
  {
   "cell_type": "markdown",
   "id": "423f08ee-d16e-4963-aca3-ea779a5940b8",
   "metadata": {
    "tags": []
   },
   "source": [
    "\"def test()\" is used to create the function."
   ]
  },
  {
   "cell_type": "code",
   "execution_count": 19,
   "id": "e0580f25-9f48-495f-964f-6de0386bec5a",
   "metadata": {},
   "outputs": [
    {
     "name": "stdout",
     "output_type": "stream",
     "text": [
      "odd numbers from 1 to 25: [1, 3, 5, 7, 9, 11, 13, 15, 17, 19, 21, 23, 25]\n"
     ]
    }
   ],
   "source": [
    "def get_odd_numbers():\n",
    "    ## initialize an empty list to store odd numbers\n",
    "    odd_numbers=[num for num in range(1,26) if num%2 !=0]\n",
    "    return odd_numbers\n",
    "odd_list=get_odd_numbers()\n",
    "print(f\"odd numbers from 1 to 25: {odd_list}\")"
   ]
  },
  {
   "cell_type": "markdown",
   "id": "dd16c99c-2925-4f27-a1b1-1f21817c5586",
   "metadata": {},
   "source": [
    "# solution 2"
   ]
  },
  {
   "cell_type": "markdown",
   "id": "261a2bb1-3e74-4066-8a04-03fd7031c8e3",
   "metadata": {},
   "source": [
    "\"*args\" is used ,so that the multiple data types can be given as a single input inside a function , it treats the data as similar to tuple, it also returns the entered data type in the form of tuple.\n",
    "\n",
    " By the help of \"**kwargs\" we can enter the data in the form of a key and the value pair as similar to the dictionary inside the function ,it also returns the input data type in the form of dictionary."
   ]
  },
  {
   "cell_type": "code",
   "execution_count": 28,
   "id": "7b811966-3399-4a6a-896d-a659139e494e",
   "metadata": {},
   "outputs": [
    {
     "data": {
      "text/plain": [
       "(1, 2.5, True, [1, 2, 3])"
      ]
     },
     "execution_count": 28,
     "metadata": {},
     "output_type": "execute_result"
    }
   ],
   "source": [
    "def test(*args):\n",
    "    return args\n",
    "test(1,2.5,True,[1,2,3])"
   ]
  },
  {
   "cell_type": "code",
   "execution_count": 29,
   "id": "c613e0c0-325b-4f5b-994e-216fbd145c82",
   "metadata": {},
   "outputs": [
    {
     "data": {
      "text/plain": [
       "{'a': 1, 'b': 2.4, 'c': [1, 2, 34]}"
      ]
     },
     "execution_count": 29,
     "metadata": {},
     "output_type": "execute_result"
    }
   ],
   "source": [
    "def test2(**kwargs):\n",
    "    return kwargs\n",
    "test2(a=1,b=2.4,c=[1,2,34])"
   ]
  },
  {
   "cell_type": "markdown",
   "id": "1b29b357-ac41-4215-b507-dc21d535f771",
   "metadata": {},
   "source": [
    "# solution 3"
   ]
  },
  {
   "cell_type": "markdown",
   "id": "0d71fe41-45c5-452c-8e09-bea8940d2c1c",
   "metadata": {},
   "source": [
    "An iterator in python is an object that allows us to get through a collection of items (tuple,list,set) one by one.\n",
    "# method to initialise the iterator\n",
    " iter(defined list or any data type),\n",
    " \"for loop\" is used for iteration."
   ]
  },
  {
   "cell_type": "code",
   "execution_count": 5,
   "id": "3b14b4cf-fc7b-45a6-9232-e1b13605b76a",
   "metadata": {},
   "outputs": [
    {
     "name": "stdout",
     "output_type": "stream",
     "text": [
      "[2, 4, 6, 8, 10]\n"
     ]
    }
   ],
   "source": [
    "def printvalues():\n",
    "    l=[2,4,6,8,10,12,14,16,18,20]\n",
    "    print(l[:5])\n",
    "printvalues()"
   ]
  },
  {
   "cell_type": "code",
   "execution_count": 6,
   "id": "c7c6d839-dfdb-45e4-afb7-544b9f9f1dd7",
   "metadata": {},
   "outputs": [
    {
     "name": "stdout",
     "output_type": "stream",
     "text": [
      "[2, 4, 6, 8, 10]\n"
     ]
    }
   ],
   "source": [
    " l=[2,4,6,8,10,12,14,16,18,20]\n",
    "first_five=l[:5]\n",
    "print(first_five)"
   ]
  },
  {
   "cell_type": "markdown",
   "id": "73b5d416-e566-42f7-85b5-0ce6f2fb7792",
   "metadata": {},
   "source": [
    "# solution4"
   ]
  },
  {
   "cell_type": "markdown",
   "id": "4900e25e-c1d5-4422-81fc-e98e195c6097",
   "metadata": {},
   "source": [
    "  A generator function is like a normal function using the \"def\" keyword.\n",
    "  Instead of using\"return\" it uses the \"yield\" keyword to produce values.\n",
    "  When a Generator function encounters a yield statement,it temporarily suspends execution and yields the value.\n"
   ]
  },
  {
   "cell_type": "code",
   "execution_count": 7,
   "id": "9d7bc503-d2c5-4ddc-948e-6f30ebabaac2",
   "metadata": {},
   "outputs": [],
   "source": [
    "def fun():\n",
    "    yield (\"this is my fun with functions\")\n",
    "    "
   ]
  },
  {
   "cell_type": "code",
   "execution_count": 8,
   "id": "49aea7e5-e844-49ff-9009-43e064a5419a",
   "metadata": {},
   "outputs": [
    {
     "data": {
      "text/plain": [
       "<generator object fun at 0x7fe1a07cdaf0>"
      ]
     },
     "execution_count": 8,
     "metadata": {},
     "output_type": "execute_result"
    }
   ],
   "source": [
    "fun()"
   ]
  },
  {
   "cell_type": "markdown",
   "id": "f33ff667-75e2-4ed7-85df-d4504c84d1a5",
   "metadata": {},
   "source": [
    "# solution 5"
   ]
  },
  {
   "cell_type": "code",
   "execution_count": 9,
   "id": "cf69cee7-3e54-49ff-bd52-05fd44088aed",
   "metadata": {},
   "outputs": [
    {
     "name": "stdout",
     "output_type": "stream",
     "text": [
      "2\n",
      "3\n",
      "5\n",
      "7\n",
      "11\n",
      "13\n",
      "17\n",
      "19\n",
      "23\n",
      "29\n",
      "31\n",
      "37\n",
      "41\n",
      "43\n",
      "47\n",
      "53\n",
      "59\n",
      "61\n",
      "67\n",
      "71\n",
      "73\n",
      "79\n",
      "83\n",
      "89\n",
      "97\n",
      "101\n",
      "103\n",
      "107\n",
      "109\n",
      "113\n",
      "127\n",
      "131\n",
      "137\n",
      "139\n",
      "149\n",
      "151\n",
      "157\n",
      "163\n",
      "167\n",
      "173\n",
      "179\n",
      "181\n",
      "191\n",
      "193\n",
      "197\n",
      "199\n",
      "211\n",
      "223\n",
      "227\n",
      "229\n",
      "233\n",
      "239\n",
      "241\n",
      "251\n",
      "257\n",
      "263\n",
      "269\n",
      "271\n",
      "277\n",
      "281\n",
      "283\n",
      "293\n",
      "307\n",
      "311\n",
      "313\n",
      "317\n",
      "331\n",
      "337\n",
      "347\n",
      "349\n",
      "353\n",
      "359\n",
      "367\n",
      "373\n",
      "379\n",
      "383\n",
      "389\n",
      "397\n",
      "401\n",
      "409\n",
      "419\n",
      "421\n",
      "431\n",
      "433\n",
      "439\n",
      "443\n",
      "449\n",
      "457\n",
      "461\n",
      "463\n",
      "467\n",
      "479\n",
      "487\n",
      "491\n",
      "499\n",
      "503\n",
      "509\n",
      "521\n",
      "523\n",
      "541\n",
      "547\n",
      "557\n",
      "563\n",
      "569\n",
      "571\n",
      "577\n",
      "587\n",
      "593\n",
      "599\n",
      "601\n",
      "607\n",
      "613\n",
      "617\n",
      "619\n",
      "631\n",
      "641\n",
      "643\n",
      "647\n",
      "653\n",
      "659\n",
      "661\n",
      "673\n",
      "677\n",
      "683\n",
      "691\n",
      "701\n",
      "709\n",
      "719\n",
      "727\n",
      "733\n",
      "739\n",
      "743\n",
      "751\n",
      "757\n",
      "761\n",
      "769\n",
      "773\n",
      "787\n",
      "797\n",
      "809\n",
      "811\n",
      "821\n",
      "823\n",
      "827\n",
      "829\n",
      "839\n",
      "853\n",
      "857\n",
      "859\n",
      "863\n",
      "877\n",
      "881\n",
      "883\n",
      "887\n",
      "907\n",
      "911\n",
      "919\n",
      "929\n",
      "937\n",
      "941\n",
      "947\n",
      "953\n",
      "967\n",
      "971\n",
      "977\n",
      "983\n",
      "991\n",
      "997\n"
     ]
    }
   ],
   "source": [
    "def is_prime(n):\n",
    "    ## check if a number is prime\n",
    "    if n<2:\n",
    "        return False\n",
    "    for i in range(2,int(n**0.5)+1):\n",
    "        if n%i==0:\n",
    "            return False\n",
    "    return True\n",
    "def prime_generator(limit):\n",
    "    ##Generate prime numbers less than the given limit of 1000\n",
    "    for num in  range(limit):\n",
    "        if is_prime(num):\n",
    "            yield num\n",
    "limit=1000\n",
    "prime_gen=prime_generator(limit)\n",
    "for prime in prime_gen:\n",
    "    print(prime)"
   ]
  },
  {
   "cell_type": "code",
   "execution_count": 10,
   "id": "32936639-9be0-46ef-95c5-85138848b30e",
   "metadata": {},
   "outputs": [
    {
     "name": "stdout",
     "output_type": "stream",
     "text": [
      "2\n",
      "3\n",
      "5\n",
      "7\n",
      "11\n",
      "13\n",
      "17\n",
      "19\n",
      "23\n",
      "29\n",
      "31\n",
      "37\n",
      "41\n",
      "43\n",
      "47\n",
      "53\n",
      "59\n",
      "61\n",
      "67\n",
      "71\n"
     ]
    }
   ],
   "source": [
    "def is_prime(n):\n",
    "    ## check if a number is prime\n",
    "    if n<2:\n",
    "        return False\n",
    "    for i in range(2,int(n**0.5)+1):\n",
    "        if n%i==0:\n",
    "            return False\n",
    "    return True\n",
    "def prime_generator(limit):\n",
    "    ##Generate prime numbers less than the given limit \n",
    "    for num in range(limit):\n",
    "        if is_prime(num):\n",
    "            yield num\n",
    "    ##create a prime no. generator with a limit of 1000\n",
    "limit=1000\n",
    "prime_gen=prime_generator(limit)\n",
    "    ## print the first 20 prime numbers using the next() method\n",
    "for _ in range(20):\n",
    "    print(next(prime_gen))"
   ]
  },
  {
   "cell_type": "markdown",
   "id": "1a82864f-c619-42f2-a6bf-bfbbc8fddf1f",
   "metadata": {},
   "source": [
    "# solution no.6"
   ]
  },
  {
   "cell_type": "code",
   "execution_count": 12,
   "id": "1f36d2df-f1f6-4ea7-b724-72686f15c1a7",
   "metadata": {},
   "outputs": [
    {
     "name": "stdout",
     "output_type": "stream",
     "text": [
      "first 10 fibonacci numbers:\n",
      "0,1,1,2,3,5,8,13,21,34,"
     ]
    }
   ],
   "source": [
    "nterms=10 # number of terms to generate\n",
    "n1,n2=0,1\n",
    "print(\"first\",nterms,\"fibonacci numbers:\")\n",
    "while nterms>0:\n",
    "    print(n1,end=\",\")\n",
    "    next_term=n1+n2\n",
    "    n1=n2\n",
    "    n2=next_term\n",
    "    nterms-=1"
   ]
  },
  {
   "cell_type": "markdown",
   "id": "da368e80-b800-4aa4-9c18-daab8a139449",
   "metadata": {},
   "source": [
    "# solution no.7"
   ]
  },
  {
   "cell_type": "code",
   "execution_count": 13,
   "id": "926e9d9e-2ed8-4cb7-920a-43add7c0de10",
   "metadata": {},
   "outputs": [
    {
     "name": "stdout",
     "output_type": "stream",
     "text": [
      "['p', 'w', 's', 'k', 'i', 'l', 'l', 's']\n"
     ]
    }
   ],
   "source": [
    "my_string=\"pwskills\"\n",
    "char_list=[char for char in my_string]\n",
    "print(char_list)"
   ]
  },
  {
   "cell_type": "markdown",
   "id": "e371208c-4378-4875-a22a-f7b7abeaec0e",
   "metadata": {},
   "source": [
    "# solution no.8"
   ]
  },
  {
   "cell_type": "code",
   "execution_count": 14,
   "id": "55ec0178-673a-4be8-be65-747774431274",
   "metadata": {},
   "outputs": [
    {
     "name": "stdin",
     "output_type": "stream",
     "text": [
      "Enter a number:  12334567\n"
     ]
    },
    {
     "name": "stdout",
     "output_type": "stream",
     "text": [
      "Not a palindrome: \n"
     ]
    }
   ],
   "source": [
    "num=int(input(\"Enter a number: \"))\n",
    "temp=num\n",
    "rev=0\n",
    "while num>0:\n",
    "    digit=num%10\n",
    "    rev=rev*10+digit\n",
    "    num =num//10\n",
    "if temp==rev:\n",
    "    print(\"The number is a palindrome: \")\n",
    "else :\n",
    "    print(\"Not a palindrome: \")"
   ]
  },
  {
   "cell_type": "markdown",
   "id": "11918d2b-ee9a-433a-bb3a-8f5661330972",
   "metadata": {},
   "source": [
    "# solution no.9"
   ]
  },
  {
   "cell_type": "code",
   "execution_count": 16,
   "id": "3be47229-10f9-4a19-b339-6df1e7b1d1c7",
   "metadata": {},
   "outputs": [
    {
     "name": "stdout",
     "output_type": "stream",
     "text": [
      "[1, 3, 5, 7, 9, 11, 13, 15, 17, 19, 21, 23, 25, 27, 29, 31, 33, 35, 37, 39, 41, 43, 45, 47, 49, 51, 53, 55, 57, 59, 61, 63, 65, 67, 69, 71, 73, 75, 77, 79, 81, 83, 85, 87, 89, 91, 93, 95, 97, 99]\n"
     ]
    }
   ],
   "source": [
    "odd_numbers = [x for x in range(1,101) if x%2==1]\n",
    "print(odd_numbers)"
   ]
  },
  {
   "cell_type": "code",
   "execution_count": null,
   "id": "c09438e2-655b-43cf-a828-adc55fdc18ec",
   "metadata": {},
   "outputs": [],
   "source": []
  }
 ],
 "metadata": {
  "kernelspec": {
   "display_name": "Python 3 (ipykernel)",
   "language": "python",
   "name": "python3"
  },
  "language_info": {
   "codemirror_mode": {
    "name": "ipython",
    "version": 3
   },
   "file_extension": ".py",
   "mimetype": "text/x-python",
   "name": "python",
   "nbconvert_exporter": "python",
   "pygments_lexer": "ipython3",
   "version": "3.10.8"
  }
 },
 "nbformat": 4,
 "nbformat_minor": 5
}
