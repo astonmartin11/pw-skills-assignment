{
 "cells": [
  {
   "cell_type": "markdown",
   "id": "2021dfd3-a591-4d2d-a879-31039b48d809",
   "metadata": {},
   "source": [
    "# Solution 1"
   ]
  },
  {
   "cell_type": "markdown",
   "id": "e0d745a5-b05d-40ca-93e4-8d1555878d54",
   "metadata": {},
   "source": [
    "A database is an organized collection of data that allows efficient storage, retrieval, and management. It helps in handling large amounts of structured or unstructured data.\n",
    "\n",
    "The main and most important differences b/w SQL and NOSQL databases are:\n",
    "\n",
    "1) SQL are structured (tables with rows and columns) whereas, NOSQL are unstructured or semi structured (JSON,key-value, graph,etc.)\n",
    "\n",
    "3) SQL are suitable for complex queries and transactions whereas, NOSQL are suitable for big data and real-time applications.\n",
    "\n",
    "   examples of SQL are:MySQL, PostgreSQL, SQL Server,etc.\n",
    "\n",
    "   \n",
    "   examples of NOSQL are: MongoDB,Cassandra,Firebase,etc."
   ]
  },
  {
   "cell_type": "markdown",
   "id": "0963a5e4-276b-4265-b293-78a3eeb8103b",
   "metadata": {},
   "source": [
    "# Solution 2"
   ]
  },
  {
   "cell_type": "markdown",
   "id": "f2a07c17-5697-4da1-a56f-9dea1bcc1750",
   "metadata": {},
   "source": [
    "DDL (Data Definition Language) is used to define, modify, and delete database structures but does not manipulate data.\n",
    "\n",
    "DDL Commands:\n",
    "\n",
    "1)CREATE → Used to create a database or table.\n",
    "\n",
    "ex: CREATE TABLE students (\n",
    "    id INT PRIMARY KEY,\n",
    "    name VARCHAR(50),\n",
    "    age INT\n",
    " );\n",
    "\n",
    "\n",
    "2)DROP → Deletes a table or database permanently.\n",
    "\n",
    " ex:DROP TABLE students;\n",
    "\n",
    "3)ALTER → Modifies an existing table (e.g., adding a new column).\n",
    "\n",
    " ex:ALTER TABLE students ADD COLUMN email VARCHAR(100);\n",
    "\n",
    "4)TRUNCATE → Deletes all records from a table but keeps its structure.\n",
    "\n",
    " ex:TRUNCATE TABLE students;\n"
   ]
  },
  {
   "cell_type": "markdown",
   "id": "2cfa03da-ab5f-4913-a91c-d0fe3500d7a0",
   "metadata": {},
   "source": [
    "# Solution 3"
   ]
  },
  {
   "cell_type": "markdown",
   "id": "b8bee304-2405-4105-953f-5c7a788d1892",
   "metadata": {},
   "source": [
    "DML (Data Manipulation Language) is used to manipulate the data stored in the database.\n",
    "\n",
    "DML Commands:\n",
    "\n",
    "1)INSERT → Adds new records to a table.\n",
    "\n",
    " ex:INSERT INTO students (id, name, age) VALUES (1, 'John Doe', 20);\n",
    " \n",
    "2)UPDATE → Modifies existing records in a table.\n",
    "\n",
    "ex:UPDATE students SET age = 21 WHERE id = 1;\n",
    "\n",
    "3)DELETE → Removes specific records from a table.\n",
    "\n",
    "ex:DELETE FROM students WHERE id = 1;\n"
   ]
  },
  {
   "cell_type": "markdown",
   "id": "17ad37a2-cb3a-447e-9499-2415e5275fbe",
   "metadata": {},
   "source": [
    "# Solution 4"
   ]
  },
  {
   "cell_type": "markdown",
   "id": "d2836e95-6003-4e3b-8da5-b82c4ade6339",
   "metadata": {},
   "source": [
    "DQL (Data Query Language) is used to retrieve data from a database.\n",
    "\n",
    "SELECT Command:\n",
    "The SELECT statement is used to fetch data from a database table.\n",
    "    \n",
    "Example:SELECT name, age FROM students WHERE age > 18;\n",
    "\n",
    "This query retrieves the name and age of students older than 18."
   ]
  },
  {
   "cell_type": "markdown",
   "id": "a5c9ffe5-2d0e-4810-ab32-e9fd8106272a",
   "metadata": {},
   "source": [
    "# Solution 5"
   ]
  },
  {
   "cell_type": "markdown",
   "id": "e32be4d0-e081-4784-8d65-69c21ed1970c",
   "metadata": {},
   "source": [
    "Primary Key\n",
    "\n",
    "1)A unique identifier for each record in a table.\n",
    "\n",
    "2)Cannot be NULL.\n",
    "\n",
    "ex:\n",
    "CREATE TABLE students (\n",
    "    id INT PRIMARY KEY,\n",
    "    name VARCHAR(50)\n",
    ");\n",
    "\n",
    "Foreign Key\n",
    "\n",
    "1)A column that creates a link between two tables.\n",
    "\n",
    "2)References the Primary Key of another table.\n",
    "\n",
    "ex:\n",
    "CREATE TABLE courses (\n",
    "    course_id INT PRIMARY KEY,\n",
    "    course_name VARCHAR(100),\n",
    "    student_id INT,\n",
    "    FOREIGN KEY (student_id) REFERENCES students(id)\n",
    ");\n"
   ]
  },
  {
   "cell_type": "markdown",
   "id": "977c9063-bdcd-45c7-b8fc-1c9d4194a1ce",
   "metadata": {},
   "source": [
    "# Solution 6"
   ]
  },
  {
   "cell_type": "code",
   "execution_count": 1,
   "id": "3353d44e-8d7c-4c8b-96ce-38c644f645c7",
   "metadata": {},
   "outputs": [
    {
     "ename": "SyntaxError",
     "evalue": "invalid character '→' (U+2192) (3836454014.py, line 27)",
     "output_type": "error",
     "traceback": [
      "  \u001b[36mCell\u001b[39m\u001b[36m \u001b[39m\u001b[32mIn[1]\u001b[39m\u001b[32m, line 27\u001b[39m\n\u001b[31m    \u001b[39m\u001b[31mcursor() → Creates a cursor object that interacts with the database.\u001b[39m\n             ^\n\u001b[31mSyntaxError\u001b[39m\u001b[31m:\u001b[39m invalid character '→' (U+2192)\n"
     ]
    }
   ],
   "source": [
    "import mysql.connector\n",
    "\n",
    "# Establish connection\n",
    "conn = mysql.connector.connect(\n",
    "    host=\"localhost\",\n",
    "    user=\"root\",\n",
    "    password=\"yourpassword\",\n",
    "    database=\"yourdatabase\"\n",
    ")\n",
    "\n",
    "# Create a cursor object\n",
    "cursor = conn.cursor()\n",
    "\n",
    "# Execute a query\n",
    "cursor.execute(\"SELECT * FROM students\")\n",
    "\n",
    "# Fetch and print results\n",
    "for row in cursor.fetchall():\n",
    "    print(row)\n",
    "\n",
    "# Close connection\n",
    "cursor.close()\n",
    "conn.close()\n",
    "\n",
    "Explanation of cursor() and execute()\n",
    "\n",
    "cursor() → Creates a cursor object that interacts with the database.\n",
    "\n",
    "execute() → Executes SQL queries like SELECT, INSERT, UPDATE, etc.\n",
    "\n"
   ]
  },
  {
   "cell_type": "markdown",
   "id": "59f7c5d3-d8b2-4042-abe8-8e7857335ceb",
   "metadata": {},
   "source": [
    "# Solution 7"
   ]
  },
  {
   "cell_type": "markdown",
   "id": "70b55ba2-4b00-4ac8-824a-f738bdd92f0e",
   "metadata": {},
   "source": [
    "The correct execution order of SQL clauses:\n",
    "\n",
    "1)FROM → Specifies the table.\n",
    "\n",
    "2)WHERE → Filters the records.\n",
    "\n",
    "3)GROUP BY → Groups records by a specified column.\n",
    "\n",
    "4)HAVING → Filters grouped records.\n",
    "\n",
    "5)SELECT → Chooses the columns to retrieve.\n",
    "\n",
    "6)ORDER BY → Sorts the results.\n",
    "\n",
    "7)LIMIT → Restricts the number of records."
   ]
  },
  {
   "cell_type": "code",
   "execution_count": null,
   "id": "8f153c3a-72c4-4d1e-bb9f-7a1c7f46af0d",
   "metadata": {},
   "outputs": [],
   "source": []
  }
 ],
 "metadata": {
  "kernelspec": {
   "display_name": "Python 3 (ipykernel)",
   "language": "python",
   "name": "python3"
  },
  "language_info": {
   "codemirror_mode": {
    "name": "ipython",
    "version": 3
   },
   "file_extension": ".py",
   "mimetype": "text/x-python",
   "name": "python",
   "nbconvert_exporter": "python",
   "pygments_lexer": "ipython3",
   "version": "3.13.2"
  }
 },
 "nbformat": 4,
 "nbformat_minor": 5
}
